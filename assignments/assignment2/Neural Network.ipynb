{
 "cells": [
  {
   "cell_type": "markdown",
   "metadata": {},
   "source": [
    "# Задание 2.1 - Нейронные сети\n",
    "\n",
    "В этом задании вы реализуете и натренируете настоящую нейроную сеть своими руками!\n",
    "\n",
    "В некотором смысле это будет расширением прошлого задания - нам нужно просто составить несколько линейных классификаторов вместе!\n",
    "\n",
    "<img src=\"https://i.redd.it/n9fgba8b0qr01.png\" alt=\"Stack_more_layers\" width=\"400px\"/>"
   ]
  },
  {
   "cell_type": "code",
   "execution_count": 17,
   "metadata": {},
   "outputs": [
    {
     "name": "stdout",
     "output_type": "stream",
     "text": [
      "The autoreload extension is already loaded. To reload it, use:\n",
      "  %reload_ext autoreload\n"
     ]
    }
   ],
   "source": [
    "import numpy as np\n",
    "import matplotlib.pyplot as plt\n",
    "\n",
    "%matplotlib inline\n",
    "\n",
    "%load_ext autoreload\n",
    "%autoreload 2"
   ]
  },
  {
   "cell_type": "code",
   "execution_count": 18,
   "metadata": {},
   "outputs": [],
   "source": [
    "from dataset import load_svhn, random_split_train_val\n",
    "from gradient_check import check_layer_gradient, check_layer_param_gradient, check_model_gradient\n",
    "from layers import FullyConnectedLayer, ReLULayer\n",
    "from model import TwoLayerNet\n",
    "from trainer import Trainer, Dataset\n",
    "from optim import SGD, MomentumSGD\n",
    "from metrics import multiclass_accuracy"
   ]
  },
  {
   "cell_type": "markdown",
   "metadata": {},
   "source": [
    "# Загружаем данные\n",
    "\n",
    "И разделяем их на training и validation."
   ]
  },
  {
   "cell_type": "code",
   "execution_count": 19,
   "metadata": {},
   "outputs": [],
   "source": [
    "def prepare_for_neural_network(train_X, test_X):\n",
    "    train_flat = train_X.reshape(train_X.shape[0], -1).astype(np.float) / 255.0\n",
    "    test_flat = test_X.reshape(test_X.shape[0], -1).astype(np.float) / 255.0\n",
    "    \n",
    "    # Subtract mean\n",
    "    mean_image = np.mean(train_flat, axis = 0)\n",
    "    train_flat -= mean_image\n",
    "    test_flat -= mean_image\n",
    "    \n",
    "    return train_flat, test_flat\n",
    "    \n",
    "train_X, train_y, test_X, test_y = load_svhn(\"data\", max_train=10000, max_test=1000)    \n",
    "train_X, test_X = prepare_for_neural_network(train_X, test_X)\n",
    "# Split train into train and val\n",
    "train_X, train_y, val_X, val_y = random_split_train_val(train_X, train_y, num_val = 1000)"
   ]
  },
  {
   "cell_type": "markdown",
   "metadata": {},
   "source": [
    "# Как всегда, начинаем с кирпичиков\n",
    "\n",
    "Мы будем реализовывать необходимые нам слои по очереди. Каждый слой должен реализовать:\n",
    "- прямой проход (forward pass), который генерирует выход слоя по входу и запоминает необходимые данные\n",
    "- обратный проход (backward pass), который получает градиент по выходу слоя и вычисляет градиент по входу и по параметрам\n",
    "\n",
    "Начнем с ReLU, у которого параметров нет."
   ]
  },
  {
   "cell_type": "code",
   "execution_count": 30,
   "metadata": {},
   "outputs": [
    {
     "name": "stdout",
     "output_type": "stream",
     "text": [
      "Gradient check passed!\n"
     ]
    }
   ],
   "source": [
    "# TODO: Implement ReLULayer layer in layers.py\n",
    "# Note: you'll need to copy implementation of the gradient_check function from the previous assignment\n",
    "\n",
    "X = np.array([[1,-2,3],\n",
    "              [-1, 2, 0.1]\n",
    "              ])\n",
    "\n",
    "assert check_layer_gradient(ReLULayer(), X)"
   ]
  },
  {
   "cell_type": "markdown",
   "metadata": {},
   "source": [
    "А теперь реализуем полносвязный слой (fully connected layer), у которого будет два массива параметров: W (weights) и B (bias).\n",
    "\n",
    "Все параметры наши слои будут использовать для параметров специальный класс `Param`, в котором будут храниться значения параметров и градиенты этих параметров, вычисляемые во время обратного прохода.\n",
    "\n",
    "Это даст возможность аккумулировать (суммировать) градиенты из разных частей функции потерь, например, из cross-entropy loss и regularization loss."
   ]
  },
  {
   "cell_type": "code",
   "execution_count": 68,
   "metadata": {},
   "outputs": [
    {
     "name": "stdout",
     "output_type": "stream",
     "text": [
      "Gradient check passed!\n",
      "Gradient check passed!\n",
      "Gradient check passed!\n"
     ]
    }
   ],
   "source": [
    "# TODO: Implement FullyConnected layer forward and backward methods\n",
    "assert check_layer_gradient(FullyConnectedLayer(3, 4), X)\n",
    "# print(\"LINE 1 CHECKED\")\n",
    "# TODO: Implement storing gradients for W and B\n",
    "assert check_layer_param_gradient(FullyConnectedLayer(3, 4), X, 'W')\n",
    "# print(\"LINE 2 CHECKED\")\n",
    "assert check_layer_param_gradient(FullyConnectedLayer(3, 4), X, 'B')\n",
    "# print(\"LINE 3 CHECKED\")"
   ]
  },
  {
   "cell_type": "markdown",
   "metadata": {},
   "source": [
    "## Создаем нейронную сеть\n",
    "\n",
    "Теперь мы реализуем простейшую нейронную сеть с двумя полносвязным слоями и нелинейностью ReLU. Реализуйте функцию `compute_loss_and_gradients`, она должна запустить прямой и обратный проход через оба слоя для вычисления градиентов.\n",
    "\n",
    "Не забудьте реализовать очистку градиентов в начале функции."
   ]
  },
  {
   "cell_type": "code",
   "execution_count": 108,
   "metadata": {},
   "outputs": [
    {
     "name": "stdout",
     "output_type": "stream",
     "text": [
      "Checking gradient for W1\n",
      "Gradient check passed!\n",
      "Checking gradient for B1\n",
      "Gradient check passed!\n",
      "Checking gradient for W2\n",
      "Gradient check passed!\n",
      "Checking gradient for B2\n",
      "Gradient check passed!\n"
     ]
    },
    {
     "data": {
      "text/plain": [
       "True"
      ]
     },
     "execution_count": 108,
     "metadata": {},
     "output_type": "execute_result"
    }
   ],
   "source": [
    "# TODO: In model.py, implement compute_loss_and_gradients function\n",
    "model = TwoLayerNet(n_input = train_X.shape[1], n_output = 10, hidden_layer_size = 3, reg = 0)\n",
    "loss = model.compute_loss_and_gradients(train_X[:2], train_y[:2])\n",
    "\n",
    "# TODO Now implement backward pass and aggregate all of the params\n",
    "check_model_gradient(model, train_X[:2], train_y[:2])"
   ]
  },
  {
   "cell_type": "code",
   "execution_count": 86,
   "metadata": {},
   "outputs": [
    {
     "name": "stdout",
     "output_type": "stream",
     "text": [
      "2.3015411189794577\n"
     ]
    }
   ],
   "source": [
    "print(loss)"
   ]
  },
  {
   "cell_type": "markdown",
   "metadata": {},
   "source": [
    "Теперь добавьте к модели регуляризацию - она должна прибавляться к loss и делать свой вклад в градиенты."
   ]
  },
  {
   "cell_type": "code",
   "execution_count": 111,
   "metadata": {},
   "outputs": [
    {
     "name": "stdout",
     "output_type": "stream",
     "text": [
      "Checking gradient for W1\n",
      "Gradient check passed!\n",
      "Checking gradient for B1\n",
      "Gradient check passed!\n",
      "Checking gradient for W2\n",
      "Gradient check passed!\n",
      "Checking gradient for B2\n",
      "Gradient check passed!\n"
     ]
    },
    {
     "data": {
      "text/plain": [
       "True"
      ]
     },
     "execution_count": 111,
     "metadata": {},
     "output_type": "execute_result"
    }
   ],
   "source": [
    "# TODO Now implement l2 regularization in the forward and backward pass\n",
    "model_with_reg = TwoLayerNet(n_input = train_X.shape[1], n_output = 10, hidden_layer_size = 3, reg = 1e1)\n",
    "loss_with_reg = model_with_reg.compute_loss_and_gradients(train_X[:2], train_y[:2])\n",
    "# print(loss_with_reg)\n",
    "assert loss_with_reg > loss and not np.isclose(loss_with_reg, loss), \\\n",
    "    \"Loss with regularization (%2.4f) should be higher than without it (%2.4f)!\" % (loss, loss_with_reg)\n",
    "\n",
    "check_model_gradient(model_with_reg, train_X[:2], train_y[:2])"
   ]
  },
  {
   "cell_type": "markdown",
   "metadata": {},
   "source": [
    "Также реализуем функцию предсказания (вычисления значения) модели на новых данных.\n",
    "\n",
    "Какое значение точности мы ожидаем увидеть до начала тренировки?"
   ]
  },
  {
   "cell_type": "code",
   "execution_count": 114,
   "metadata": {},
   "outputs": [
    {
     "data": {
      "text/plain": [
       "0.03333333333333333"
      ]
     },
     "execution_count": 114,
     "metadata": {},
     "output_type": "execute_result"
    }
   ],
   "source": [
    "# Finally, implement predict function!\n",
    "\n",
    "# TODO: Implement predict function\n",
    "# What would be the value we expect?\n",
    "multiclass_accuracy(model_with_reg.predict(train_X[:30]), train_y[:30]) "
   ]
  },
  {
   "cell_type": "markdown",
   "metadata": {},
   "source": [
    "# Допишем код для процесса тренировки\n",
    "\n",
    "Если все реализовано корректно, значение функции ошибки должно уменьшаться с каждой эпохой, пусть и медленно. Не беспокойтесь пока про validation accuracy."
   ]
  },
  {
   "cell_type": "code",
   "execution_count": 116,
   "metadata": {},
   "outputs": [
    {
     "name": "stdout",
     "output_type": "stream",
     "text": [
      "Loss: 2.302334, Train accuracy: 0.196667, val accuracy: 0.206000\n",
      "Loss: 2.303152, Train accuracy: 0.196667, val accuracy: 0.206000\n",
      "Loss: 2.302729, Train accuracy: 0.148222, val accuracy: 0.140000\n",
      "Loss: 2.301429, Train accuracy: 0.196667, val accuracy: 0.206000\n",
      "Loss: 2.301913, Train accuracy: 0.196667, val accuracy: 0.206000\n",
      "Loss: 2.303180, Train accuracy: 0.196667, val accuracy: 0.206000\n",
      "Loss: 2.301518, Train accuracy: 0.196667, val accuracy: 0.206000\n",
      "Loss: 2.303550, Train accuracy: 0.196667, val accuracy: 0.206000\n",
      "Loss: 2.301600, Train accuracy: 0.196667, val accuracy: 0.206000\n",
      "Loss: 2.303765, Train accuracy: 0.196667, val accuracy: 0.206000\n",
      "Loss: 2.301821, Train accuracy: 0.196667, val accuracy: 0.206000\n",
      "Loss: 2.302805, Train accuracy: 0.148222, val accuracy: 0.140000\n",
      "Loss: 2.302877, Train accuracy: 0.196667, val accuracy: 0.206000\n",
      "Loss: 2.301806, Train accuracy: 0.196667, val accuracy: 0.206000\n",
      "Loss: 2.301712, Train accuracy: 0.196667, val accuracy: 0.206000\n",
      "Loss: 2.301950, Train accuracy: 0.196667, val accuracy: 0.206000\n",
      "Loss: 2.302079, Train accuracy: 0.196667, val accuracy: 0.206000\n",
      "Loss: 2.302436, Train accuracy: 0.196667, val accuracy: 0.206000\n",
      "Loss: 2.302755, Train accuracy: 0.196667, val accuracy: 0.206000\n",
      "Loss: 2.301758, Train accuracy: 0.196667, val accuracy: 0.206000\n"
     ]
    }
   ],
   "source": [
    "model = TwoLayerNet(n_input = train_X.shape[1], n_output = 10, hidden_layer_size = 100, reg = 1e1)\n",
    "dataset = Dataset(train_X, train_y, val_X, val_y)\n",
    "trainer = Trainer(model, dataset, SGD(), learning_rate = 1e-2)\n",
    "\n",
    "# TODO Implement missing pieces in Trainer.fit function\n",
    "# You should expect loss to go down every epoch, even if it's slow\n",
    "loss_history, train_history, val_history = trainer.fit()"
   ]
  },
  {
   "cell_type": "code",
   "execution_count": 117,
   "metadata": {},
   "outputs": [
    {
     "data": {
      "text/plain": [
       "[<matplotlib.lines.Line2D at 0x12d5e1d60>]"
      ]
     },
     "execution_count": 117,
     "metadata": {},
     "output_type": "execute_result"
    },
    {
     "data": {
      "image/png": "[encoded data removed]",
      "text/plain": [
       "<Figure size 432x288 with 1 Axes>"
      ]
     },
     "metadata": {
      "needs_background": "light"
     },
     "output_type": "display_data"
    }
   ],
   "source": [
    "plt.plot(train_history)\n",
    "plt.plot(val_history)"
   ]
  },
  {
   "cell_type": "markdown",
   "metadata": {},
   "source": [
    "# Улучшаем процесс тренировки\n",
    "\n",
    "Мы реализуем несколько ключевых оптимизаций, необходимых для тренировки современных нейросетей."
   ]
  },
  {
   "cell_type": "markdown",
   "metadata": {},
   "source": [
    "## Уменьшение скорости обучения (learning rate decay)\n",
    "\n",
    "Одна из необходимых оптимизаций во время тренировки нейронных сетей - постепенное уменьшение скорости обучения по мере тренировки.\n",
    "\n",
    "Один из стандартных методов - уменьшение скорости обучения (learning rate) каждые N эпох на коэффициент d (часто называемый decay). Значения N и d, как всегда, являются гиперпараметрами и должны подбираться на основе эффективности на проверочных данных (validation data). \n",
    "\n",
    "В нашем случае N будет равным 1."
   ]
  },
  {
   "cell_type": "code",
   "execution_count": 136,
   "metadata": {},
   "outputs": [
    {
     "name": "stdout",
     "output_type": "stream",
     "text": [
      "Loss: 27.799422, Train accuracy: 0.230667, val accuracy: 0.232000\n",
      "Loss: 23.615874, Train accuracy: 0.263889, val accuracy: 0.260000\n",
      "Loss: 20.101335, Train accuracy: 0.315111, val accuracy: 0.317000\n",
      "Loss: 17.333555, Train accuracy: 0.340222, val accuracy: 0.339000\n",
      "Loss: 14.546261, Train accuracy: 0.380333, val accuracy: 0.377000\n",
      "Loss: 12.640159, Train accuracy: 0.409444, val accuracy: 0.410000\n",
      "Loss: 10.965826, Train accuracy: 0.444222, val accuracy: 0.444000\n",
      "Loss: 9.578260, Train accuracy: 0.469333, val accuracy: 0.461000\n",
      "Loss: 8.295159, Train accuracy: 0.496778, val accuracy: 0.483000\n",
      "Loss: 7.670142, Train accuracy: 0.521222, val accuracy: 0.502000\n",
      "Loss: 6.443297, Train accuracy: 0.531444, val accuracy: 0.514000\n",
      "Loss: 6.021781, Train accuracy: 0.553444, val accuracy: 0.544000\n",
      "Loss: 5.375733, Train accuracy: 0.572444, val accuracy: 0.557000\n",
      "Loss: 4.275300, Train accuracy: 0.581889, val accuracy: 0.563000\n",
      "Loss: 4.480167, Train accuracy: 0.592000, val accuracy: 0.568000\n",
      "Loss: 4.080146, Train accuracy: 0.587889, val accuracy: 0.570000\n",
      "Loss: 3.487889, Train accuracy: 0.603667, val accuracy: 0.576000\n",
      "Loss: 3.705507, Train accuracy: 0.599222, val accuracy: 0.586000\n",
      "Loss: 3.007714, Train accuracy: 0.613222, val accuracy: 0.595000\n",
      "Loss: 2.907643, Train accuracy: 0.620000, val accuracy: 0.599000\n"
     ]
    }
   ],
   "source": [
    "# TODO Implement learning rate decay inside Trainer.fit method\n",
    "# Decay should happen once per epoch\n",
    "\n",
    "model = TwoLayerNet(n_input = train_X.shape[1], n_output = 10, hidden_layer_size = 100, reg = 1e-2)\n",
    "dataset = Dataset(train_X, train_y, val_X, val_y)\n",
    "trainer = Trainer(model, dataset, SGD(), learning_rate_decay=0.99)\n",
    "\n",
    "initial_learning_rate = trainer.learning_rate\n",
    "loss_history, train_history, val_history = trainer.fit()\n",
    "\n",
    "assert trainer.learning_rate < initial_learning_rate, \"Learning rate should've been reduced\"\n",
    "assert trainer.learning_rate > 0.5*initial_learning_rate, \"Learning rate shouldn'tve been reduced that much!\""
   ]
  },
  {
   "cell_type": "code",
   "execution_count": 137,
   "metadata": {},
   "outputs": [
    {
     "data": {
      "text/plain": [
       "[<matplotlib.lines.Line2D at 0x12d8013d0>]"
      ]
     },
     "execution_count": 137,
     "metadata": {},
     "output_type": "execute_result"
    },
    {
     "data": {
      "image/png": "[encoded data removed]",
      "text/plain": [
       "<Figure size 432x288 with 1 Axes>"
      ]
     },
     "metadata": {
      "needs_background": "light"
     },
     "output_type": "display_data"
    }
   ],
   "source": [
    "plt.plot(train_history)\n",
    "plt.plot(val_history)"
   ]
  },
  {
   "cell_type": "markdown",
   "metadata": {},
   "source": [
    "# Накопление импульса (Momentum SGD)\n",
    "\n",
    "Другой большой класс оптимизаций - использование более эффективных методов градиентного спуска. Мы реализуем один из них - накопление импульса (Momentum SGD).\n",
    "\n",
    "Этот метод хранит скорость движения, использует градиент для ее изменения на каждом шаге, и изменяет веса пропорционально значению скорости.\n",
    "(Физическая аналогия: Вместо скорости градиенты теперь будут задавать ускорение, но будет присутствовать сила трения.)\n",
    "\n",
    "```\n",
    "velocity = momentum * velocity - learning_rate * gradient \n",
    "w = w + velocity\n",
    "```\n",
    "\n",
    "`momentum` здесь коэффициент затухания, который тоже является гиперпараметром (к счастью, для него часто есть хорошее значение по умолчанию, типичный диапазон -- 0.8-0.99).\n",
    "\n",
    "Несколько полезных ссылок, где метод разбирается более подробно:  \n",
    "http://cs231n.github.io/neural-networks-3/#sgd  \n",
    "https://distill.pub/2017/momentum/"
   ]
  },
  {
   "cell_type": "code",
   "execution_count": 146,
   "metadata": {},
   "outputs": [
    {
     "name": "stdout",
     "output_type": "stream",
     "text": [
      "Loss: 6.902583, Train accuracy: 0.433000, val accuracy: 0.422000\n",
      "Loss: 3.063709, Train accuracy: 0.508222, val accuracy: 0.514000\n",
      "Loss: 1.589463, Train accuracy: 0.551778, val accuracy: 0.562000\n",
      "Loss: 1.756811, Train accuracy: 0.593111, val accuracy: 0.598000\n",
      "Loss: 1.806484, Train accuracy: 0.592333, val accuracy: 0.593000\n",
      "Loss: 1.941559, Train accuracy: 0.608556, val accuracy: 0.607000\n",
      "Loss: 1.757121, Train accuracy: 0.621778, val accuracy: 0.625000\n",
      "Loss: 2.195497, Train accuracy: 0.607778, val accuracy: 0.606000\n",
      "Loss: 1.648399, Train accuracy: 0.603556, val accuracy: 0.598000\n",
      "Loss: 1.538595, Train accuracy: 0.599667, val accuracy: 0.593000\n",
      "Loss: 1.652803, Train accuracy: 0.566556, val accuracy: 0.582000\n",
      "Loss: 1.670344, Train accuracy: 0.617111, val accuracy: 0.629000\n",
      "Loss: 1.774161, Train accuracy: 0.595222, val accuracy: 0.573000\n",
      "Loss: 2.144473, Train accuracy: 0.621000, val accuracy: 0.596000\n",
      "Loss: 2.020449, Train accuracy: 0.611444, val accuracy: 0.617000\n",
      "Loss: 2.031824, Train accuracy: 0.626556, val accuracy: 0.627000\n",
      "Loss: 2.114568, Train accuracy: 0.614667, val accuracy: 0.617000\n",
      "Loss: 1.484796, Train accuracy: 0.625111, val accuracy: 0.613000\n",
      "Loss: 1.878536, Train accuracy: 0.611333, val accuracy: 0.601000\n",
      "Loss: 1.507123, Train accuracy: 0.612333, val accuracy: 0.596000\n"
     ]
    }
   ],
   "source": [
    "# TODO: Implement MomentumSGD.update function in optim.py\n",
    "\n",
    "model = TwoLayerNet(n_input = train_X.shape[1], n_output = 10, hidden_layer_size = 100, reg = 1e-2)\n",
    "dataset = Dataset(train_X, train_y, val_X, val_y)\n",
    "trainer = Trainer(model, dataset, MomentumSGD(), learning_rate=1e-2, learning_rate_decay=0.99)\n",
    "\n",
    "# You should see even better results than before!\n",
    "loss_history, train_history, val_history = trainer.fit()"
   ]
  },
  {
   "cell_type": "code",
   "execution_count": 147,
   "metadata": {},
   "outputs": [
    {
     "data": {
      "text/plain": [
       "[<matplotlib.lines.Line2D at 0x12d843070>]"
      ]
     },
     "execution_count": 147,
     "metadata": {},
     "output_type": "execute_result"
    },
    {
     "data": {
      "image/png": "[encoded data removed]",
      "text/plain": [
       "<Figure size 432x288 with 1 Axes>"
      ]
     },
     "metadata": {
      "needs_background": "light"
     },
     "output_type": "display_data"
    }
   ],
   "source": [
    "plt.plot(train_history)\n",
    "plt.plot(val_history)"
   ]
  },
  {
   "cell_type": "markdown",
   "metadata": {},
   "source": [
    "# Ну что, давайте уже тренировать сеть!"
   ]
  },
  {
   "cell_type": "markdown",
   "metadata": {},
   "source": [
    "## Последний тест - переобучимся (overfit) на маленьком наборе данных\n",
    "\n",
    "Хороший способ проверить, все ли реализовано корректно - переобучить сеть на маленьком наборе данных.  \n",
    "Наша модель обладает достаточной мощностью, чтобы приблизить маленький набор данных идеально, поэтому мы ожидаем, что на нем мы быстро дойдем до 100% точности на тренировочном наборе. \n",
    "\n",
    "Если этого не происходит, то где-то была допущена ошибка!"
   ]
  },
  {
   "cell_type": "code",
   "execution_count": 154,
   "metadata": {},
   "outputs": [
    {
     "name": "stdout",
     "output_type": "stream",
     "text": [
      "Loss: 286.441466, Train accuracy: 0.533333, val accuracy: 0.000000\n",
      "Loss: 253.528220, Train accuracy: 0.800000, val accuracy: 0.133333\n",
      "Loss: 224.495420, Train accuracy: 1.000000, val accuracy: 0.133333\n",
      "Loss: 198.788038, Train accuracy: 1.000000, val accuracy: 0.066667\n",
      "Loss: 175.826637, Train accuracy: 1.000000, val accuracy: 0.000000\n",
      "Loss: 155.998783, Train accuracy: 1.000000, val accuracy: 0.000000\n",
      "Loss: 138.277906, Train accuracy: 1.000000, val accuracy: 0.133333\n",
      "Loss: 122.829871, Train accuracy: 1.000000, val accuracy: 0.133333\n",
      "Loss: 108.966910, Train accuracy: 1.000000, val accuracy: 0.133333\n",
      "Loss: 96.480692, Train accuracy: 1.000000, val accuracy: 0.133333\n",
      "Loss: 85.721360, Train accuracy: 1.000000, val accuracy: 0.066667\n",
      "Loss: 75.941007, Train accuracy: 1.000000, val accuracy: 0.000000\n",
      "Loss: 67.602709, Train accuracy: 1.000000, val accuracy: 0.066667\n",
      "Loss: 59.918860, Train accuracy: 1.000000, val accuracy: 0.000000\n",
      "Loss: 53.311371, Train accuracy: 1.000000, val accuracy: 0.000000\n",
      "Loss: 47.050273, Train accuracy: 1.000000, val accuracy: 0.000000\n",
      "Loss: 41.903673, Train accuracy: 1.000000, val accuracy: 0.000000\n",
      "Loss: 37.472506, Train accuracy: 1.000000, val accuracy: 0.000000\n",
      "Loss: 33.361096, Train accuracy: 1.000000, val accuracy: 0.000000\n",
      "Loss: 29.538979, Train accuracy: 1.000000, val accuracy: 0.000000\n",
      "Loss: 26.677902, Train accuracy: 1.000000, val accuracy: 0.000000\n",
      "Loss: 23.671323, Train accuracy: 1.000000, val accuracy: 0.000000\n",
      "Loss: 20.994475, Train accuracy: 1.000000, val accuracy: 0.000000\n",
      "Loss: 18.873967, Train accuracy: 1.000000, val accuracy: 0.000000\n",
      "Loss: 16.918962, Train accuracy: 1.000000, val accuracy: 0.000000\n",
      "Loss: 15.006282, Train accuracy: 1.000000, val accuracy: 0.000000\n",
      "Loss: 13.541831, Train accuracy: 1.000000, val accuracy: 0.000000\n",
      "Loss: 11.988252, Train accuracy: 1.000000, val accuracy: 0.000000\n",
      "Loss: 10.974668, Train accuracy: 1.000000, val accuracy: 0.000000\n",
      "Loss: 9.715483, Train accuracy: 1.000000, val accuracy: 0.000000\n",
      "Loss: 9.055275, Train accuracy: 1.000000, val accuracy: 0.000000\n",
      "Loss: 8.071799, Train accuracy: 1.000000, val accuracy: 0.000000\n",
      "Loss: 7.149404, Train accuracy: 1.000000, val accuracy: 0.000000\n",
      "Loss: 6.671258, Train accuracy: 1.000000, val accuracy: 0.000000\n",
      "Loss: 6.060967, Train accuracy: 1.000000, val accuracy: 0.000000\n",
      "Loss: 5.334468, Train accuracy: 1.000000, val accuracy: 0.000000\n",
      "Loss: 4.840107, Train accuracy: 1.000000, val accuracy: 0.000000\n",
      "Loss: 4.351841, Train accuracy: 1.000000, val accuracy: 0.000000\n",
      "Loss: 4.058728, Train accuracy: 1.000000, val accuracy: 0.000000\n",
      "Loss: 3.954942, Train accuracy: 1.000000, val accuracy: 0.000000\n",
      "Loss: 3.518721, Train accuracy: 1.000000, val accuracy: 0.000000\n",
      "Loss: 3.152707, Train accuracy: 1.000000, val accuracy: 0.000000\n",
      "Loss: 3.012516, Train accuracy: 1.000000, val accuracy: 0.000000\n",
      "Loss: 2.780773, Train accuracy: 1.000000, val accuracy: 0.000000\n",
      "Loss: 2.709188, Train accuracy: 1.000000, val accuracy: 0.000000\n",
      "Loss: 2.473849, Train accuracy: 1.000000, val accuracy: 0.000000\n",
      "Loss: 2.414473, Train accuracy: 1.000000, val accuracy: 0.000000\n",
      "Loss: 2.290470, Train accuracy: 1.000000, val accuracy: 0.000000\n",
      "Loss: 2.058144, Train accuracy: 1.000000, val accuracy: 0.000000\n",
      "Loss: 2.191244, Train accuracy: 1.000000, val accuracy: 0.000000\n",
      "Loss: 1.926090, Train accuracy: 1.000000, val accuracy: 0.000000\n",
      "Loss: 1.983812, Train accuracy: 1.000000, val accuracy: 0.000000\n",
      "Loss: 1.793890, Train accuracy: 1.000000, val accuracy: 0.000000\n",
      "Loss: 1.709344, Train accuracy: 1.000000, val accuracy: 0.000000\n",
      "Loss: 1.505198, Train accuracy: 1.000000, val accuracy: 0.000000\n",
      "Loss: 1.487753, Train accuracy: 1.000000, val accuracy: 0.000000\n",
      "Loss: 1.732273, Train accuracy: 1.000000, val accuracy: 0.000000\n",
      "Loss: 1.639729, Train accuracy: 1.000000, val accuracy: 0.000000\n",
      "Loss: 1.663113, Train accuracy: 1.000000, val accuracy: 0.000000\n",
      "Loss: 1.393665, Train accuracy: 1.000000, val accuracy: 0.000000\n",
      "Loss: 1.366639, Train accuracy: 1.000000, val accuracy: 0.000000\n",
      "Loss: 1.384177, Train accuracy: 1.000000, val accuracy: 0.000000\n",
      "Loss: 1.531454, Train accuracy: 1.000000, val accuracy: 0.000000\n",
      "Loss: 1.348458, Train accuracy: 1.000000, val accuracy: 0.000000\n",
      "Loss: 1.388348, Train accuracy: 1.000000, val accuracy: 0.000000\n",
      "Loss: 1.668859, Train accuracy: 1.000000, val accuracy: 0.000000\n",
      "Loss: 1.392844, Train accuracy: 1.000000, val accuracy: 0.000000\n",
      "Loss: 1.319275, Train accuracy: 1.000000, val accuracy: 0.000000\n",
      "Loss: 1.352884, Train accuracy: 1.000000, val accuracy: 0.000000\n",
      "Loss: 1.289912, Train accuracy: 1.000000, val accuracy: 0.000000\n",
      "Loss: 1.433398, Train accuracy: 1.000000, val accuracy: 0.000000\n",
      "Loss: 1.348370, Train accuracy: 1.000000, val accuracy: 0.000000\n",
      "Loss: 1.377412, Train accuracy: 1.000000, val accuracy: 0.000000\n",
      "Loss: 1.313429, Train accuracy: 1.000000, val accuracy: 0.000000\n",
      "Loss: 1.387699, Train accuracy: 1.000000, val accuracy: 0.000000\n",
      "Loss: 1.316387, Train accuracy: 1.000000, val accuracy: 0.000000\n",
      "Loss: 1.563977, Train accuracy: 1.000000, val accuracy: 0.000000\n",
      "Loss: 1.263792, Train accuracy: 1.000000, val accuracy: 0.000000\n",
      "Loss: 1.356110, Train accuracy: 1.000000, val accuracy: 0.000000\n",
      "Loss: 1.242929, Train accuracy: 1.000000, val accuracy: 0.000000\n",
      "Loss: 1.309359, Train accuracy: 1.000000, val accuracy: 0.000000\n",
      "Loss: 1.514135, Train accuracy: 1.000000, val accuracy: 0.000000\n",
      "Loss: 1.237247, Train accuracy: 1.000000, val accuracy: 0.000000\n",
      "Loss: 1.382641, Train accuracy: 1.000000, val accuracy: 0.000000\n",
      "Loss: 1.343755, Train accuracy: 1.000000, val accuracy: 0.000000\n",
      "Loss: 1.301803, Train accuracy: 1.000000, val accuracy: 0.000000\n",
      "Loss: 1.262659, Train accuracy: 1.000000, val accuracy: 0.000000\n",
      "Loss: 1.421968, Train accuracy: 1.000000, val accuracy: 0.000000\n",
      "Loss: 1.326447, Train accuracy: 1.000000, val accuracy: 0.000000\n",
      "Loss: 1.267712, Train accuracy: 1.000000, val accuracy: 0.000000\n",
      "Loss: 1.356412, Train accuracy: 1.000000, val accuracy: 0.000000\n",
      "Loss: 1.236660, Train accuracy: 1.000000, val accuracy: 0.000000\n",
      "Loss: 1.256435, Train accuracy: 1.000000, val accuracy: 0.000000\n",
      "Loss: 1.196287, Train accuracy: 1.000000, val accuracy: 0.000000\n",
      "Loss: 1.274720, Train accuracy: 1.000000, val accuracy: 0.000000\n",
      "Loss: 1.262352, Train accuracy: 1.000000, val accuracy: 0.000000\n",
      "Loss: 1.231613, Train accuracy: 1.000000, val accuracy: 0.000000\n",
      "Loss: 1.243966, Train accuracy: 1.000000, val accuracy: 0.000000\n",
      "Loss: 1.257743, Train accuracy: 1.000000, val accuracy: 0.000000\n",
      "Loss: 1.198492, Train accuracy: 1.000000, val accuracy: 0.000000\n",
      "Loss: 1.350242, Train accuracy: 1.000000, val accuracy: 0.000000\n",
      "Loss: 1.275792, Train accuracy: 1.000000, val accuracy: 0.000000\n",
      "Loss: 1.393993, Train accuracy: 1.000000, val accuracy: 0.000000\n",
      "Loss: 1.203518, Train accuracy: 1.000000, val accuracy: 0.000000\n",
      "Loss: 1.140937, Train accuracy: 1.000000, val accuracy: 0.000000\n",
      "Loss: 1.420112, Train accuracy: 1.000000, val accuracy: 0.000000\n",
      "Loss: 1.180766, Train accuracy: 1.000000, val accuracy: 0.000000\n",
      "Loss: 1.263525, Train accuracy: 1.000000, val accuracy: 0.000000\n",
      "Loss: 1.417552, Train accuracy: 1.000000, val accuracy: 0.000000\n",
      "Loss: 1.288170, Train accuracy: 1.000000, val accuracy: 0.000000\n",
      "Loss: 1.278895, Train accuracy: 1.000000, val accuracy: 0.000000\n",
      "Loss: 1.341364, Train accuracy: 1.000000, val accuracy: 0.000000\n",
      "Loss: 1.262864, Train accuracy: 1.000000, val accuracy: 0.000000\n",
      "Loss: 1.210188, Train accuracy: 1.000000, val accuracy: 0.000000\n",
      "Loss: 1.443517, Train accuracy: 1.000000, val accuracy: 0.000000\n",
      "Loss: 1.293966, Train accuracy: 1.000000, val accuracy: 0.000000\n",
      "Loss: 1.469317, Train accuracy: 1.000000, val accuracy: 0.000000\n",
      "Loss: 1.278583, Train accuracy: 1.000000, val accuracy: 0.000000\n",
      "Loss: 1.249735, Train accuracy: 1.000000, val accuracy: 0.000000\n",
      "Loss: 1.241749, Train accuracy: 1.000000, val accuracy: 0.000000\n",
      "Loss: 1.291242, Train accuracy: 1.000000, val accuracy: 0.000000\n",
      "Loss: 1.314459, Train accuracy: 1.000000, val accuracy: 0.000000\n",
      "Loss: 1.237014, Train accuracy: 1.000000, val accuracy: 0.000000\n",
      "Loss: 1.225105, Train accuracy: 1.000000, val accuracy: 0.000000\n",
      "Loss: 1.336322, Train accuracy: 1.000000, val accuracy: 0.000000\n",
      "Loss: 1.371642, Train accuracy: 1.000000, val accuracy: 0.000000\n",
      "Loss: 1.214814, Train accuracy: 1.000000, val accuracy: 0.000000\n",
      "Loss: 1.198141, Train accuracy: 1.000000, val accuracy: 0.000000\n",
      "Loss: 1.420992, Train accuracy: 1.000000, val accuracy: 0.000000\n",
      "Loss: 1.348318, Train accuracy: 1.000000, val accuracy: 0.000000\n",
      "Loss: 1.121500, Train accuracy: 1.000000, val accuracy: 0.000000\n",
      "Loss: 1.374404, Train accuracy: 1.000000, val accuracy: 0.000000\n",
      "Loss: 1.245677, Train accuracy: 1.000000, val accuracy: 0.000000\n",
      "Loss: 1.383657, Train accuracy: 1.000000, val accuracy: 0.000000\n",
      "Loss: 1.061984, Train accuracy: 1.000000, val accuracy: 0.000000\n",
      "Loss: 1.156394, Train accuracy: 1.000000, val accuracy: 0.000000\n",
      "Loss: 1.404506, Train accuracy: 1.000000, val accuracy: 0.000000\n",
      "Loss: 1.300320, Train accuracy: 1.000000, val accuracy: 0.000000\n",
      "Loss: 1.309675, Train accuracy: 1.000000, val accuracy: 0.000000\n",
      "Loss: 1.161962, Train accuracy: 1.000000, val accuracy: 0.000000\n",
      "Loss: 1.436438, Train accuracy: 1.000000, val accuracy: 0.000000\n",
      "Loss: 1.248290, Train accuracy: 1.000000, val accuracy: 0.000000\n",
      "Loss: 1.170004, Train accuracy: 1.000000, val accuracy: 0.000000\n",
      "Loss: 1.339001, Train accuracy: 1.000000, val accuracy: 0.000000\n",
      "Loss: 1.272351, Train accuracy: 1.000000, val accuracy: 0.000000\n",
      "Loss: 1.336644, Train accuracy: 1.000000, val accuracy: 0.000000\n",
      "Loss: 1.243501, Train accuracy: 1.000000, val accuracy: 0.000000\n",
      "Loss: 1.297006, Train accuracy: 1.000000, val accuracy: 0.000000\n",
      "Loss: 1.295298, Train accuracy: 1.000000, val accuracy: 0.000000\n",
      "Loss: 1.315061, Train accuracy: 1.000000, val accuracy: 0.000000\n"
     ]
    }
   ],
   "source": [
    "data_size = 15\n",
    "model = TwoLayerNet(n_input = train_X.shape[1], n_output = 10, hidden_layer_size = 100, reg = 1e-1)\n",
    "dataset = Dataset(train_X[:data_size], train_y[:data_size], val_X[:data_size], val_y[:data_size])\n",
    "trainer = Trainer(model, dataset, SGD(), learning_rate=1e-1, num_epochs=150, batch_size=5)\n",
    "\n",
    "# You should expect this to reach 1.0 training accuracy \n",
    "loss_history, train_history, val_history = trainer.fit()"
   ]
  },
  {
   "cell_type": "markdown",
   "metadata": {},
   "source": [
    "Теперь найдем гипепараметры, для которых этот процесс сходится быстрее.\n",
    "Если все реализовано корректно, то существуют параметры, при которых процесс сходится в **20** эпох или еще быстрее.\n",
    "Найдите их!"
   ]
  },
  {
   "cell_type": "code",
   "execution_count": 155,
   "metadata": {},
   "outputs": [
    {
     "name": "stdout",
     "output_type": "stream",
     "text": [
      "Loss: 287.733711, Train accuracy: 0.533333, val accuracy: 0.066667\n",
      "Loss: 254.497799, Train accuracy: 0.800000, val accuracy: 0.066667\n",
      "Loss: 225.244781, Train accuracy: 0.800000, val accuracy: 0.000000\n",
      "Loss: 199.762041, Train accuracy: 0.933333, val accuracy: 0.066667\n",
      "Loss: 177.100236, Train accuracy: 1.000000, val accuracy: 0.066667\n",
      "Loss: 156.859730, Train accuracy: 1.000000, val accuracy: 0.066667\n",
      "Loss: 139.178212, Train accuracy: 1.000000, val accuracy: 0.066667\n",
      "Loss: 123.753575, Train accuracy: 1.000000, val accuracy: 0.066667\n",
      "Loss: 109.365054, Train accuracy: 1.000000, val accuracy: 0.066667\n",
      "Loss: 97.139846, Train accuracy: 1.000000, val accuracy: 0.066667\n",
      "Loss: 86.095528, Train accuracy: 1.000000, val accuracy: 0.066667\n",
      "Loss: 76.333072, Train accuracy: 1.000000, val accuracy: 0.066667\n",
      "Loss: 67.822130, Train accuracy: 1.000000, val accuracy: 0.000000\n",
      "Loss: 60.443911, Train accuracy: 1.000000, val accuracy: 0.066667\n",
      "Loss: 53.750707, Train accuracy: 1.000000, val accuracy: 0.066667\n",
      "Loss: 47.627952, Train accuracy: 1.000000, val accuracy: 0.066667\n",
      "Loss: 42.655916, Train accuracy: 1.000000, val accuracy: 0.066667\n",
      "Loss: 37.682541, Train accuracy: 1.000000, val accuracy: 0.066667\n",
      "Loss: 33.666476, Train accuracy: 1.000000, val accuracy: 0.066667\n",
      "Loss: 29.999982, Train accuracy: 1.000000, val accuracy: 0.066667\n"
     ]
    }
   ],
   "source": [
    "# Now, tweak some hyper parameters and make it train to 1.0 accuracy in 20 epochs or less\n",
    "\n",
    "model = TwoLayerNet(n_input = train_X.shape[1], n_output = 10, hidden_layer_size = 100, reg = 1e-1)\n",
    "dataset = Dataset(train_X[:data_size], train_y[:data_size], val_X[:data_size], val_y[:data_size])\n",
    "# TODO: Change any hyperparamers or optimizators to reach training accuracy in 20 epochs\n",
    "trainer = Trainer(model, dataset, SGD(), learning_rate=1e-1, num_epochs=20, batch_size=5)\n",
    "\n",
    "loss_history, train_history, val_history = trainer.fit()"
   ]
  },
  {
   "cell_type": "markdown",
   "metadata": {},
   "source": [
    "# Итак, основное мероприятие!\n",
    "\n",
    "Натренируйте лучшую нейросеть! Можно добавлять и изменять параметры, менять количество нейронов в слоях сети и как угодно экспериментировать. \n",
    "\n",
    "Добейтесь точности лучше **60%** на validation set."
   ]
  },
  {
   "cell_type": "code",
   "execution_count": 173,
   "metadata": {
    "scrolled": true
   },
   "outputs": [
    {
     "name": "stdout",
     "output_type": "stream",
     "text": [
      "Now training with the following parameters: lr = 0.1, reg = 0.01, lr_decay=0.999\n",
      "Loss: 2.195564, Train accuracy: 0.276000, val accuracy: 0.279000\n",
      "Loss: 1.916066, Train accuracy: 0.387000, val accuracy: 0.408000\n",
      "Loss: 1.918882, Train accuracy: 0.429889, val accuracy: 0.446000\n",
      "Loss: 1.997879, Train accuracy: 0.402667, val accuracy: 0.425000\n",
      "Loss: 2.144877, Train accuracy: 0.419222, val accuracy: 0.413000\n",
      "Loss: 1.966354, Train accuracy: 0.386444, val accuracy: 0.406000\n",
      "Loss: 2.299674, Train accuracy: 0.455000, val accuracy: 0.454000\n",
      "Loss: 2.109398, Train accuracy: 0.387556, val accuracy: 0.371000\n",
      "Loss: 1.978406, Train accuracy: 0.390778, val accuracy: 0.414000\n",
      "Loss: 2.000480, Train accuracy: 0.403444, val accuracy: 0.394000\n",
      "Loss: 1.933396, Train accuracy: 0.409778, val accuracy: 0.432000\n",
      "Loss: 1.924784, Train accuracy: 0.407333, val accuracy: 0.413000\n",
      "Loss: 2.163073, Train accuracy: 0.360111, val accuracy: 0.353000\n",
      "Loss: 2.084954, Train accuracy: 0.357889, val accuracy: 0.377000\n",
      "Loss: 1.909397, Train accuracy: 0.405333, val accuracy: 0.419000\n",
      "Loss: 2.365807, Train accuracy: 0.386667, val accuracy: 0.403000\n",
      "Loss: 1.895310, Train accuracy: 0.399667, val accuracy: 0.399000\n",
      "Loss: 2.100787, Train accuracy: 0.389778, val accuracy: 0.425000\n",
      "Loss: 1.862993, Train accuracy: 0.453222, val accuracy: 0.439000\n",
      "Loss: 1.886986, Train accuracy: 0.418444, val accuracy: 0.444000\n",
      "Loss: 2.187982, Train accuracy: 0.418778, val accuracy: 0.430000\n",
      "Loss: 2.034545, Train accuracy: 0.419667, val accuracy: 0.432000\n",
      "Loss: 2.073697, Train accuracy: 0.392556, val accuracy: 0.445000\n",
      "Loss: 2.150039, Train accuracy: 0.380111, val accuracy: 0.389000\n",
      "Loss: 2.079202, Train accuracy: 0.424111, val accuracy: 0.452000\n",
      "Now training with the following parameters: lr = 0.1, reg = 0.01, lr_decay=0.99\n",
      "Loss: 2.344295, Train accuracy: 0.288444, val accuracy: 0.302000\n",
      "Loss: 2.027540, Train accuracy: 0.467000, val accuracy: 0.455000\n",
      "Loss: 2.080792, Train accuracy: 0.390889, val accuracy: 0.402000\n",
      "Loss: 2.092095, Train accuracy: 0.407333, val accuracy: 0.399000\n",
      "Loss: 2.080050, Train accuracy: 0.458222, val accuracy: 0.485000\n",
      "Loss: 2.088075, Train accuracy: 0.456333, val accuracy: 0.487000\n",
      "Loss: 2.199564, Train accuracy: 0.398000, val accuracy: 0.405000\n",
      "Loss: 2.094667, Train accuracy: 0.440556, val accuracy: 0.457000\n",
      "Loss: 1.980204, Train accuracy: 0.430333, val accuracy: 0.455000\n",
      "Loss: 2.032213, Train accuracy: 0.450667, val accuracy: 0.457000\n",
      "Loss: 2.202643, Train accuracy: 0.423333, val accuracy: 0.416000\n",
      "Loss: 2.107438, Train accuracy: 0.421889, val accuracy: 0.412000\n",
      "Loss: 2.235539, Train accuracy: 0.418444, val accuracy: 0.427000\n",
      "Loss: 2.187992, Train accuracy: 0.439333, val accuracy: 0.447000\n",
      "Loss: 2.152573, Train accuracy: 0.416667, val accuracy: 0.421000\n",
      "Loss: 1.913810, Train accuracy: 0.512444, val accuracy: 0.511000\n",
      "Loss: 1.864607, Train accuracy: 0.397667, val accuracy: 0.408000\n",
      "Loss: 2.171052, Train accuracy: 0.404556, val accuracy: 0.408000\n",
      "Loss: 2.005311, Train accuracy: 0.438000, val accuracy: 0.428000\n",
      "Loss: 2.139486, Train accuracy: 0.460111, val accuracy: 0.457000\n",
      "Loss: 1.790512, Train accuracy: 0.457889, val accuracy: 0.466000\n",
      "Loss: 2.184686, Train accuracy: 0.423333, val accuracy: 0.427000\n",
      "Loss: 2.040290, Train accuracy: 0.479556, val accuracy: 0.506000\n",
      "Loss: 1.872340, Train accuracy: 0.438444, val accuracy: 0.443000\n",
      "Loss: 1.957642, Train accuracy: 0.429222, val accuracy: 0.453000\n",
      "Now training with the following parameters: lr = 0.1, reg = 0.01, lr_decay=0.999\n",
      "Loss: 1.958900, Train accuracy: 0.280444, val accuracy: 0.288000\n",
      "Loss: 2.124729, Train accuracy: 0.408222, val accuracy: 0.408000\n",
      "Loss: 2.097768, Train accuracy: 0.415333, val accuracy: 0.447000\n",
      "Loss: 1.746993, Train accuracy: 0.460556, val accuracy: 0.469000\n",
      "Loss: 2.083099, Train accuracy: 0.451333, val accuracy: 0.468000\n",
      "Loss: 2.320772, Train accuracy: 0.461000, val accuracy: 0.433000\n",
      "Loss: 2.139003, Train accuracy: 0.416333, val accuracy: 0.427000\n",
      "Loss: 1.956033, Train accuracy: 0.400889, val accuracy: 0.423000\n",
      "Loss: 2.150935, Train accuracy: 0.427889, val accuracy: 0.441000\n",
      "Loss: 2.210791, Train accuracy: 0.385667, val accuracy: 0.377000\n",
      "Loss: 2.074275, Train accuracy: 0.399556, val accuracy: 0.402000\n",
      "Loss: 1.854912, Train accuracy: 0.398444, val accuracy: 0.413000\n",
      "Loss: 2.046731, Train accuracy: 0.479556, val accuracy: 0.478000\n",
      "Loss: 2.038488, Train accuracy: 0.429333, val accuracy: 0.447000\n",
      "Loss: 1.949521, Train accuracy: 0.430333, val accuracy: 0.417000\n",
      "Loss: 2.173299, Train accuracy: 0.428444, val accuracy: 0.435000\n",
      "Loss: 2.054548, Train accuracy: 0.438889, val accuracy: 0.456000\n",
      "Loss: 2.082734, Train accuracy: 0.464000, val accuracy: 0.448000\n",
      "Loss: 1.974851, Train accuracy: 0.451000, val accuracy: 0.477000\n",
      "Loss: 2.199102, Train accuracy: 0.408889, val accuracy: 0.426000\n",
      "Loss: 1.889324, Train accuracy: 0.419667, val accuracy: 0.414000\n",
      "Loss: 2.187573, Train accuracy: 0.419333, val accuracy: 0.439000\n",
      "Loss: 2.042739, Train accuracy: 0.438556, val accuracy: 0.438000\n",
      "Loss: 2.286534, Train accuracy: 0.407889, val accuracy: 0.413000\n",
      "Loss: 1.960379, Train accuracy: 0.417556, val accuracy: 0.424000\n",
      "Now training with the following parameters: lr = 0.1, reg = 0.01, lr_decay=0.99\n",
      "Loss: 2.193008, Train accuracy: 0.258889, val accuracy: 0.268000\n",
      "Loss: 2.326181, Train accuracy: 0.360333, val accuracy: 0.385000\n",
      "Loss: 1.922759, Train accuracy: 0.494667, val accuracy: 0.476000\n",
      "Loss: 2.410717, Train accuracy: 0.410333, val accuracy: 0.424000\n",
      "Loss: 1.778523, Train accuracy: 0.436333, val accuracy: 0.436000\n",
      "Loss: 2.159049, Train accuracy: 0.421333, val accuracy: 0.422000\n",
      "Loss: 1.936747, Train accuracy: 0.429889, val accuracy: 0.446000\n",
      "Loss: 2.354577, Train accuracy: 0.411000, val accuracy: 0.455000\n",
      "Loss: 2.039728, Train accuracy: 0.457889, val accuracy: 0.460000\n",
      "Loss: 2.064215, Train accuracy: 0.445111, val accuracy: 0.446000\n",
      "Loss: 2.193625, Train accuracy: 0.406111, val accuracy: 0.432000\n",
      "Loss: 2.096873, Train accuracy: 0.440444, val accuracy: 0.448000\n",
      "Loss: 2.117457, Train accuracy: 0.478667, val accuracy: 0.489000\n",
      "Loss: 1.983021, Train accuracy: 0.442444, val accuracy: 0.439000\n",
      "Loss: 2.332846, Train accuracy: 0.442889, val accuracy: 0.443000\n",
      "Loss: 2.390611, Train accuracy: 0.412111, val accuracy: 0.441000\n",
      "Loss: 1.903542, Train accuracy: 0.445222, val accuracy: 0.454000\n",
      "Loss: 1.919458, Train accuracy: 0.439222, val accuracy: 0.429000\n",
      "Loss: 2.142400, Train accuracy: 0.466444, val accuracy: 0.481000\n",
      "Loss: 1.990339, Train accuracy: 0.442778, val accuracy: 0.444000\n",
      "Loss: 1.884090, Train accuracy: 0.460889, val accuracy: 0.492000\n",
      "Loss: 2.214699, Train accuracy: 0.395222, val accuracy: 0.417000\n",
      "Loss: 1.929088, Train accuracy: 0.418667, val accuracy: 0.435000\n",
      "Loss: 1.801169, Train accuracy: 0.408889, val accuracy: 0.396000\n",
      "Loss: 1.911369, Train accuracy: 0.433222, val accuracy: 0.459000\n",
      "Now training with the following parameters: lr = 0.1, reg = 0.001, lr_decay=0.999\n",
      "Loss: 1.938351, Train accuracy: 0.344000, val accuracy: 0.340000\n",
      "Loss: 2.115928, Train accuracy: 0.465222, val accuracy: 0.481000\n",
      "Loss: 1.790773, Train accuracy: 0.587889, val accuracy: 0.565000\n",
      "Loss: 1.647891, Train accuracy: 0.623111, val accuracy: 0.602000\n",
      "Loss: 1.725802, Train accuracy: 0.613778, val accuracy: 0.585000\n",
      "Loss: 1.765246, Train accuracy: 0.623889, val accuracy: 0.594000\n",
      "Loss: 1.339520, Train accuracy: 0.607111, val accuracy: 0.579000\n",
      "Loss: 1.665400, Train accuracy: 0.622111, val accuracy: 0.589000\n",
      "Loss: 1.711589, Train accuracy: 0.604333, val accuracy: 0.561000\n",
      "Loss: 1.544866, Train accuracy: 0.682111, val accuracy: 0.611000\n",
      "Loss: 1.369678, Train accuracy: 0.675000, val accuracy: 0.623000\n",
      "Loss: 1.435585, Train accuracy: 0.648556, val accuracy: 0.636000\n",
      "Loss: 1.283224, Train accuracy: 0.710222, val accuracy: 0.674000\n",
      "Loss: 1.669103, Train accuracy: 0.634667, val accuracy: 0.600000\n",
      "Loss: 1.503712, Train accuracy: 0.617444, val accuracy: 0.602000\n",
      "Loss: 1.893792, Train accuracy: 0.666889, val accuracy: 0.638000\n",
      "Loss: 1.920969, Train accuracy: 0.677444, val accuracy: 0.630000\n",
      "Loss: 1.393928, Train accuracy: 0.667556, val accuracy: 0.613000\n",
      "Loss: 1.447638, Train accuracy: 0.700000, val accuracy: 0.666000\n",
      "Loss: 2.150711, Train accuracy: 0.597000, val accuracy: 0.548000\n",
      "Loss: 1.595292, Train accuracy: 0.642778, val accuracy: 0.623000\n",
      "Loss: 2.507403, Train accuracy: 0.553000, val accuracy: 0.543000\n",
      "Loss: 1.528374, Train accuracy: 0.689444, val accuracy: 0.642000\n",
      "Loss: 1.270886, Train accuracy: 0.683556, val accuracy: 0.659000\n",
      "Loss: 1.432309, Train accuracy: 0.635778, val accuracy: 0.619000\n",
      "Now training with the following parameters: lr = 0.1, reg = 0.001, lr_decay=0.99\n",
      "Loss: 1.835579, Train accuracy: 0.350778, val accuracy: 0.339000\n",
      "Loss: 1.497620, Train accuracy: 0.519667, val accuracy: 0.530000\n",
      "Loss: 1.689225, Train accuracy: 0.621222, val accuracy: 0.596000\n",
      "Loss: 1.565642, Train accuracy: 0.576222, val accuracy: 0.565000\n",
      "Loss: 1.424115, Train accuracy: 0.626778, val accuracy: 0.593000\n",
      "Loss: 1.785735, Train accuracy: 0.652778, val accuracy: 0.634000\n",
      "Loss: 1.053738, Train accuracy: 0.653444, val accuracy: 0.623000\n",
      "Loss: 1.890683, Train accuracy: 0.588111, val accuracy: 0.574000\n",
      "Loss: 1.503711, Train accuracy: 0.655222, val accuracy: 0.617000\n",
      "Loss: 1.245685, Train accuracy: 0.630556, val accuracy: 0.594000\n",
      "Loss: 1.326421, Train accuracy: 0.688222, val accuracy: 0.637000\n",
      "Loss: 1.675942, Train accuracy: 0.665111, val accuracy: 0.629000\n",
      "Loss: 1.725249, Train accuracy: 0.664778, val accuracy: 0.654000\n",
      "Loss: 1.278596, Train accuracy: 0.689667, val accuracy: 0.661000\n",
      "Loss: 1.778404, Train accuracy: 0.691889, val accuracy: 0.656000\n",
      "Loss: 1.668092, Train accuracy: 0.694111, val accuracy: 0.659000\n",
      "Loss: 1.301518, Train accuracy: 0.700667, val accuracy: 0.676000\n",
      "Loss: 1.542025, Train accuracy: 0.663667, val accuracy: 0.629000\n",
      "Loss: 1.056444, Train accuracy: 0.739333, val accuracy: 0.693000\n",
      "Loss: 1.532393, Train accuracy: 0.701889, val accuracy: 0.645000\n",
      "Loss: 1.618930, Train accuracy: 0.651556, val accuracy: 0.617000\n",
      "Loss: 1.400653, Train accuracy: 0.698444, val accuracy: 0.658000\n",
      "Loss: 1.220534, Train accuracy: 0.714556, val accuracy: 0.666000\n",
      "Loss: 1.387876, Train accuracy: 0.671222, val accuracy: 0.640000\n",
      "Loss: 1.104276, Train accuracy: 0.709000, val accuracy: 0.659000\n",
      "Now training with the following parameters: lr = 0.1, reg = 0.001, lr_decay=0.999\n",
      "Loss: 1.807687, Train accuracy: 0.378333, val accuracy: 0.369000\n",
      "Loss: 1.801897, Train accuracy: 0.526889, val accuracy: 0.531000\n",
      "Loss: 1.403136, Train accuracy: 0.556000, val accuracy: 0.554000\n",
      "Loss: 1.444202, Train accuracy: 0.655222, val accuracy: 0.624000\n",
      "Loss: 2.018431, Train accuracy: 0.655333, val accuracy: 0.646000\n",
      "Loss: 1.620171, Train accuracy: 0.580333, val accuracy: 0.569000\n",
      "Loss: 2.212731, Train accuracy: 0.589444, val accuracy: 0.564000\n",
      "Loss: 1.285022, Train accuracy: 0.607111, val accuracy: 0.599000\n",
      "Loss: 1.678292, Train accuracy: 0.558667, val accuracy: 0.543000\n",
      "Loss: 1.555292, Train accuracy: 0.637000, val accuracy: 0.579000\n",
      "Loss: 1.702744, Train accuracy: 0.674222, val accuracy: 0.639000\n",
      "Loss: 1.939177, Train accuracy: 0.613667, val accuracy: 0.588000\n",
      "Loss: 1.667883, Train accuracy: 0.687000, val accuracy: 0.651000\n",
      "Loss: 1.272553, Train accuracy: 0.626111, val accuracy: 0.615000\n",
      "Loss: 1.634119, Train accuracy: 0.683889, val accuracy: 0.659000\n",
      "Loss: 1.824026, Train accuracy: 0.655778, val accuracy: 0.628000\n",
      "Loss: 1.500014, Train accuracy: 0.684889, val accuracy: 0.646000\n",
      "Loss: 1.797530, Train accuracy: 0.672000, val accuracy: 0.636000\n",
      "Loss: 1.774573, Train accuracy: 0.620889, val accuracy: 0.568000\n",
      "Loss: 1.951449, Train accuracy: 0.689556, val accuracy: 0.651000\n",
      "Loss: 1.791192, Train accuracy: 0.654889, val accuracy: 0.624000\n",
      "Loss: 1.451144, Train accuracy: 0.655889, val accuracy: 0.614000\n",
      "Loss: 2.089172, Train accuracy: 0.600556, val accuracy: 0.578000\n",
      "Loss: 1.709856, Train accuracy: 0.643667, val accuracy: 0.618000\n",
      "Loss: 1.734684, Train accuracy: 0.676333, val accuracy: 0.634000\n",
      "Now training with the following parameters: lr = 0.1, reg = 0.001, lr_decay=0.99\n",
      "Loss: 2.143193, Train accuracy: 0.325444, val accuracy: 0.327000\n",
      "Loss: 1.640920, Train accuracy: 0.498556, val accuracy: 0.498000\n",
      "Loss: 1.540911, Train accuracy: 0.564111, val accuracy: 0.529000\n",
      "Loss: 1.460032, Train accuracy: 0.604667, val accuracy: 0.599000\n",
      "Loss: 1.559908, Train accuracy: 0.633667, val accuracy: 0.620000\n",
      "Loss: 1.919951, Train accuracy: 0.610333, val accuracy: 0.580000\n",
      "Loss: 1.880057, Train accuracy: 0.658333, val accuracy: 0.628000\n",
      "Loss: 1.768421, Train accuracy: 0.656778, val accuracy: 0.609000\n",
      "Loss: 1.612389, Train accuracy: 0.637556, val accuracy: 0.611000\n",
      "Loss: 1.504494, Train accuracy: 0.614444, val accuracy: 0.596000\n",
      "Loss: 1.964780, Train accuracy: 0.679000, val accuracy: 0.638000\n",
      "Loss: 1.907863, Train accuracy: 0.664333, val accuracy: 0.608000\n",
      "Loss: 1.446569, Train accuracy: 0.664222, val accuracy: 0.636000\n",
      "Loss: 1.759317, Train accuracy: 0.683444, val accuracy: 0.638000\n",
      "Loss: 1.843868, Train accuracy: 0.640333, val accuracy: 0.613000\n",
      "Loss: 1.674266, Train accuracy: 0.643556, val accuracy: 0.602000\n",
      "Loss: 1.877170, Train accuracy: 0.673111, val accuracy: 0.638000\n",
      "Loss: 1.211715, Train accuracy: 0.693333, val accuracy: 0.643000\n",
      "Loss: 1.561309, Train accuracy: 0.703000, val accuracy: 0.654000\n",
      "Loss: 1.533917, Train accuracy: 0.729222, val accuracy: 0.698000\n",
      "Loss: 1.569838, Train accuracy: 0.636000, val accuracy: 0.597000\n",
      "Loss: 1.568965, Train accuracy: 0.696778, val accuracy: 0.646000\n",
      "Loss: 1.454793, Train accuracy: 0.707333, val accuracy: 0.665000\n",
      "Loss: 1.472857, Train accuracy: 0.672778, val accuracy: 0.633000\n",
      "Loss: 2.124468, Train accuracy: 0.693889, val accuracy: 0.637000\n",
      "Now training with the following parameters: lr = 0.1, reg = 0.0001, lr_decay=0.999\n",
      "Loss: 1.869501, Train accuracy: 0.334667, val accuracy: 0.351000\n",
      "Loss: 1.359335, Train accuracy: 0.526000, val accuracy: 0.520000\n",
      "Loss: 1.170555, Train accuracy: 0.606333, val accuracy: 0.588000\n",
      "Loss: 1.719900, Train accuracy: 0.575111, val accuracy: 0.550000\n",
      "Loss: 1.177749, Train accuracy: 0.639778, val accuracy: 0.571000\n",
      "Loss: 1.570350, Train accuracy: 0.660111, val accuracy: 0.629000\n",
      "Loss: 1.110566, Train accuracy: 0.704000, val accuracy: 0.661000\n",
      "Loss: 1.086555, Train accuracy: 0.709667, val accuracy: 0.644000\n",
      "Loss: 1.740647, Train accuracy: 0.686667, val accuracy: 0.636000\n",
      "Loss: 1.300194, Train accuracy: 0.702556, val accuracy: 0.607000\n",
      "Loss: 0.700647, Train accuracy: 0.731667, val accuracy: 0.670000\n",
      "Loss: 1.236477, Train accuracy: 0.707444, val accuracy: 0.619000\n",
      "Loss: 1.051454, Train accuracy: 0.752667, val accuracy: 0.666000\n",
      "Loss: 0.948390, Train accuracy: 0.771444, val accuracy: 0.680000\n",
      "Loss: 0.924020, Train accuracy: 0.748556, val accuracy: 0.664000\n",
      "Loss: 0.880661, Train accuracy: 0.795000, val accuracy: 0.722000\n",
      "Loss: 0.889599, Train accuracy: 0.787778, val accuracy: 0.691000\n",
      "Loss: 0.911042, Train accuracy: 0.752556, val accuracy: 0.657000\n",
      "Loss: 1.024373, Train accuracy: 0.765111, val accuracy: 0.656000\n",
      "Loss: 0.891248, Train accuracy: 0.764778, val accuracy: 0.668000\n",
      "Loss: 1.339156, Train accuracy: 0.755222, val accuracy: 0.662000\n",
      "Loss: 0.959918, Train accuracy: 0.790222, val accuracy: 0.702000\n",
      "Loss: 0.996625, Train accuracy: 0.766000, val accuracy: 0.672000\n",
      "Loss: 0.782015, Train accuracy: 0.803111, val accuracy: 0.697000\n",
      "Loss: 0.903369, Train accuracy: 0.805444, val accuracy: 0.696000\n",
      "Now training with the following parameters: lr = 0.1, reg = 0.0001, lr_decay=0.99\n",
      "Loss: 2.105919, Train accuracy: 0.389889, val accuracy: 0.394000\n",
      "Loss: 1.889203, Train accuracy: 0.483778, val accuracy: 0.503000\n",
      "Loss: 1.146012, Train accuracy: 0.594111, val accuracy: 0.580000\n",
      "Loss: 1.385294, Train accuracy: 0.617667, val accuracy: 0.615000\n",
      "Loss: 1.352113, Train accuracy: 0.643667, val accuracy: 0.597000\n",
      "Loss: 1.287919, Train accuracy: 0.660667, val accuracy: 0.622000\n",
      "Loss: 1.471307, Train accuracy: 0.715222, val accuracy: 0.644000\n",
      "Loss: 0.916431, Train accuracy: 0.699444, val accuracy: 0.640000\n",
      "Loss: 1.354093, Train accuracy: 0.688333, val accuracy: 0.614000\n",
      "Loss: 0.793931, Train accuracy: 0.738667, val accuracy: 0.661000\n",
      "Loss: 1.379569, Train accuracy: 0.742333, val accuracy: 0.684000\n",
      "Loss: 1.076637, Train accuracy: 0.755111, val accuracy: 0.678000\n",
      "Loss: 0.738534, Train accuracy: 0.732111, val accuracy: 0.639000\n",
      "Loss: 1.056258, Train accuracy: 0.749667, val accuracy: 0.683000\n",
      "Loss: 1.251383, Train accuracy: 0.746000, val accuracy: 0.664000\n",
      "Loss: 1.721663, Train accuracy: 0.763889, val accuracy: 0.693000\n",
      "Loss: 0.892753, Train accuracy: 0.797333, val accuracy: 0.715000\n",
      "Loss: 1.048858, Train accuracy: 0.812667, val accuracy: 0.692000\n",
      "Loss: 0.889421, Train accuracy: 0.771000, val accuracy: 0.680000\n",
      "Loss: 1.147402, Train accuracy: 0.783222, val accuracy: 0.691000\n",
      "Loss: 0.711668, Train accuracy: 0.792333, val accuracy: 0.704000\n",
      "Loss: 1.188743, Train accuracy: 0.815444, val accuracy: 0.688000\n",
      "Loss: 1.267210, Train accuracy: 0.782778, val accuracy: 0.685000\n",
      "Loss: 0.731579, Train accuracy: 0.775667, val accuracy: 0.679000\n",
      "Loss: 1.479710, Train accuracy: 0.806778, val accuracy: 0.696000\n",
      "Now training with the following parameters: lr = 0.1, reg = 0.0001, lr_decay=0.999\n",
      "Loss: 1.781857, Train accuracy: 0.405222, val accuracy: 0.407000\n",
      "Loss: 2.274312, Train accuracy: 0.493778, val accuracy: 0.474000\n",
      "Loss: 1.483287, Train accuracy: 0.564000, val accuracy: 0.559000\n",
      "Loss: 1.339603, Train accuracy: 0.657444, val accuracy: 0.632000\n",
      "Loss: 1.087182, Train accuracy: 0.633333, val accuracy: 0.600000\n",
      "Loss: 1.689398, Train accuracy: 0.633889, val accuracy: 0.599000\n",
      "Loss: 1.622865, Train accuracy: 0.707333, val accuracy: 0.677000\n",
      "Loss: 1.316918, Train accuracy: 0.691333, val accuracy: 0.638000\n",
      "Loss: 0.925525, Train accuracy: 0.709000, val accuracy: 0.636000\n",
      "Loss: 1.520069, Train accuracy: 0.729111, val accuracy: 0.658000\n",
      "Loss: 1.095944, Train accuracy: 0.726444, val accuracy: 0.643000\n",
      "Loss: 1.482557, Train accuracy: 0.744778, val accuracy: 0.670000\n",
      "Loss: 1.048966, Train accuracy: 0.732778, val accuracy: 0.661000\n",
      "Loss: 1.220200, Train accuracy: 0.737444, val accuracy: 0.676000\n",
      "Loss: 1.492778, Train accuracy: 0.724111, val accuracy: 0.633000\n",
      "Loss: 1.208739, Train accuracy: 0.741222, val accuracy: 0.641000\n",
      "Loss: 0.775090, Train accuracy: 0.761556, val accuracy: 0.670000\n",
      "Loss: 0.692729, Train accuracy: 0.786778, val accuracy: 0.698000\n",
      "Loss: 0.805350, Train accuracy: 0.761667, val accuracy: 0.680000\n",
      "Loss: 1.234054, Train accuracy: 0.744889, val accuracy: 0.658000\n",
      "Loss: 1.231337, Train accuracy: 0.761333, val accuracy: 0.666000\n",
      "Loss: 1.435321, Train accuracy: 0.769667, val accuracy: 0.662000\n",
      "Loss: 0.695240, Train accuracy: 0.785222, val accuracy: 0.672000\n",
      "Loss: 1.530437, Train accuracy: 0.735111, val accuracy: 0.629000\n",
      "Loss: 1.136858, Train accuracy: 0.777111, val accuracy: 0.674000\n",
      "Now training with the following parameters: lr = 0.1, reg = 0.0001, lr_decay=0.99\n",
      "Loss: 1.859893, Train accuracy: 0.296889, val accuracy: 0.319000\n",
      "Loss: 1.682381, Train accuracy: 0.498111, val accuracy: 0.510000\n",
      "Loss: 1.930022, Train accuracy: 0.611333, val accuracy: 0.583000\n",
      "Loss: 1.303691, Train accuracy: 0.627333, val accuracy: 0.615000\n",
      "Loss: 1.276552, Train accuracy: 0.665333, val accuracy: 0.625000\n",
      "Loss: 1.139472, Train accuracy: 0.684556, val accuracy: 0.652000\n",
      "Loss: 1.972854, Train accuracy: 0.704889, val accuracy: 0.658000\n",
      "Loss: 1.513599, Train accuracy: 0.660444, val accuracy: 0.617000\n",
      "Loss: 1.059410, Train accuracy: 0.722778, val accuracy: 0.668000\n",
      "Loss: 1.124676, Train accuracy: 0.739333, val accuracy: 0.685000\n",
      "Loss: 0.705938, Train accuracy: 0.757667, val accuracy: 0.683000\n",
      "Loss: 0.856333, Train accuracy: 0.757222, val accuracy: 0.680000\n",
      "Loss: 0.976158, Train accuracy: 0.763444, val accuracy: 0.660000\n",
      "Loss: 0.705676, Train accuracy: 0.776111, val accuracy: 0.693000\n",
      "Loss: 1.002384, Train accuracy: 0.804667, val accuracy: 0.703000\n",
      "Loss: 1.567912, Train accuracy: 0.758778, val accuracy: 0.667000\n",
      "Loss: 1.269151, Train accuracy: 0.797000, val accuracy: 0.678000\n",
      "Loss: 0.798238, Train accuracy: 0.770778, val accuracy: 0.667000\n",
      "Loss: 0.539086, Train accuracy: 0.803111, val accuracy: 0.695000\n",
      "Loss: 0.817128, Train accuracy: 0.786222, val accuracy: 0.691000\n",
      "Loss: 1.335434, Train accuracy: 0.805111, val accuracy: 0.696000\n",
      "Loss: 0.759393, Train accuracy: 0.780556, val accuracy: 0.679000\n",
      "Loss: 0.813857, Train accuracy: 0.814111, val accuracy: 0.691000\n",
      "Loss: 1.218140, Train accuracy: 0.799000, val accuracy: 0.692000\n",
      "Loss: 0.899450, Train accuracy: 0.810111, val accuracy: 0.713000\n",
      "Now training with the following parameters: lr = 0.01, reg = 0.01, lr_decay=0.999\n",
      "Loss: 2.241205, Train accuracy: 0.196667, val accuracy: 0.206000\n",
      "Loss: 2.195584, Train accuracy: 0.196667, val accuracy: 0.206000\n",
      "Loss: 2.214249, Train accuracy: 0.196667, val accuracy: 0.206000\n",
      "Loss: 2.079019, Train accuracy: 0.227778, val accuracy: 0.229000\n",
      "Loss: 2.029086, Train accuracy: 0.272444, val accuracy: 0.271000\n",
      "Loss: 1.943324, Train accuracy: 0.291111, val accuracy: 0.292000\n",
      "Loss: 1.922719, Train accuracy: 0.346444, val accuracy: 0.344000\n",
      "Loss: 1.921910, Train accuracy: 0.387333, val accuracy: 0.369000\n",
      "Loss: 1.925989, Train accuracy: 0.426222, val accuracy: 0.429000\n",
      "Loss: 2.117163, Train accuracy: 0.467333, val accuracy: 0.472000\n",
      "Loss: 1.841498, Train accuracy: 0.493444, val accuracy: 0.497000\n",
      "Loss: 1.987740, Train accuracy: 0.541000, val accuracy: 0.549000\n",
      "Loss: 2.094751, Train accuracy: 0.547444, val accuracy: 0.543000\n",
      "Loss: 2.059160, Train accuracy: 0.567556, val accuracy: 0.557000\n",
      "Loss: 2.048452, Train accuracy: 0.575111, val accuracy: 0.574000\n",
      "Loss: 1.944653, Train accuracy: 0.597889, val accuracy: 0.582000\n",
      "Loss: 1.694993, Train accuracy: 0.604222, val accuracy: 0.601000\n",
      "Loss: 1.711330, Train accuracy: 0.613444, val accuracy: 0.615000\n",
      "Loss: 1.607664, Train accuracy: 0.606000, val accuracy: 0.602000\n",
      "Loss: 1.594542, Train accuracy: 0.616889, val accuracy: 0.620000\n",
      "Loss: 1.666483, Train accuracy: 0.622333, val accuracy: 0.606000\n",
      "Loss: 1.468337, Train accuracy: 0.636667, val accuracy: 0.624000\n",
      "Loss: 1.923131, Train accuracy: 0.611556, val accuracy: 0.611000\n",
      "Loss: 1.832646, Train accuracy: 0.639000, val accuracy: 0.617000\n",
      "Loss: 1.837495, Train accuracy: 0.630556, val accuracy: 0.627000\n",
      "Now training with the following parameters: lr = 0.01, reg = 0.01, lr_decay=0.99\n",
      "Loss: 2.311832, Train accuracy: 0.196667, val accuracy: 0.206000\n",
      "Loss: 2.193329, Train accuracy: 0.196667, val accuracy: 0.206000\n",
      "Loss: 2.172517, Train accuracy: 0.196667, val accuracy: 0.206000\n",
      "Loss: 2.148310, Train accuracy: 0.216778, val accuracy: 0.222000\n",
      "Loss: 2.039029, Train accuracy: 0.248778, val accuracy: 0.251000\n",
      "Loss: 2.256385, Train accuracy: 0.284778, val accuracy: 0.293000\n",
      "Loss: 2.064011, Train accuracy: 0.354556, val accuracy: 0.347000\n",
      "Loss: 1.844232, Train accuracy: 0.385667, val accuracy: 0.382000\n",
      "Loss: 1.703599, Train accuracy: 0.419111, val accuracy: 0.416000\n",
      "Loss: 1.886197, Train accuracy: 0.473111, val accuracy: 0.464000\n",
      "Loss: 1.892334, Train accuracy: 0.488333, val accuracy: 0.497000\n",
      "Loss: 1.731257, Train accuracy: 0.517222, val accuracy: 0.527000\n",
      "Loss: 1.839768, Train accuracy: 0.522111, val accuracy: 0.503000\n",
      "Loss: 1.816509, Train accuracy: 0.553111, val accuracy: 0.546000\n",
      "Loss: 1.812684, Train accuracy: 0.578333, val accuracy: 0.578000\n",
      "Loss: 1.578339, Train accuracy: 0.588333, val accuracy: 0.579000\n",
      "Loss: 1.826213, Train accuracy: 0.600556, val accuracy: 0.601000\n",
      "Loss: 1.822169, Train accuracy: 0.613111, val accuracy: 0.605000\n",
      "Loss: 1.851634, Train accuracy: 0.597222, val accuracy: 0.601000\n",
      "Loss: 1.808610, Train accuracy: 0.623778, val accuracy: 0.612000\n",
      "Loss: 1.698674, Train accuracy: 0.608778, val accuracy: 0.609000\n",
      "Loss: 1.637523, Train accuracy: 0.622000, val accuracy: 0.616000\n",
      "Loss: 1.701519, Train accuracy: 0.631444, val accuracy: 0.615000\n",
      "Loss: 1.886563, Train accuracy: 0.616111, val accuracy: 0.619000\n",
      "Loss: 1.535694, Train accuracy: 0.626444, val accuracy: 0.614000\n",
      "Now training with the following parameters: lr = 0.01, reg = 0.01, lr_decay=0.999\n",
      "Loss: 2.295965, Train accuracy: 0.196667, val accuracy: 0.206000\n",
      "Loss: 2.203154, Train accuracy: 0.196667, val accuracy: 0.206000\n",
      "Loss: 2.275940, Train accuracy: 0.196667, val accuracy: 0.206000\n",
      "Loss: 2.200272, Train accuracy: 0.231556, val accuracy: 0.236000\n",
      "Loss: 2.079808, Train accuracy: 0.253778, val accuracy: 0.254000\n",
      "Loss: 2.084764, Train accuracy: 0.294444, val accuracy: 0.303000\n",
      "Loss: 1.800308, Train accuracy: 0.364333, val accuracy: 0.364000\n",
      "Loss: 1.772500, Train accuracy: 0.412889, val accuracy: 0.406000\n",
      "Loss: 1.969584, Train accuracy: 0.452778, val accuracy: 0.457000\n",
      "Loss: 1.813898, Train accuracy: 0.458778, val accuracy: 0.466000\n",
      "Loss: 2.097387, Train accuracy: 0.501111, val accuracy: 0.504000\n",
      "Loss: 1.748884, Train accuracy: 0.523000, val accuracy: 0.524000\n",
      "Loss: 1.935300, Train accuracy: 0.562556, val accuracy: 0.563000\n",
      "Loss: 1.650122, Train accuracy: 0.557222, val accuracy: 0.550000\n",
      "Loss: 1.824262, Train accuracy: 0.603667, val accuracy: 0.598000\n",
      "Loss: 1.796896, Train accuracy: 0.594111, val accuracy: 0.582000\n",
      "Loss: 1.628625, Train accuracy: 0.602778, val accuracy: 0.587000\n",
      "Loss: 1.883182, Train accuracy: 0.607111, val accuracy: 0.607000\n",
      "Loss: 1.817520, Train accuracy: 0.641556, val accuracy: 0.622000\n",
      "Loss: 2.000607, Train accuracy: 0.630222, val accuracy: 0.627000\n",
      "Loss: 1.698911, Train accuracy: 0.647444, val accuracy: 0.625000\n",
      "Loss: 1.931088, Train accuracy: 0.630444, val accuracy: 0.621000\n",
      "Loss: 1.990693, Train accuracy: 0.641889, val accuracy: 0.630000\n",
      "Loss: 1.787988, Train accuracy: 0.615889, val accuracy: 0.617000\n",
      "Loss: 1.789196, Train accuracy: 0.648778, val accuracy: 0.647000\n",
      "Now training with the following parameters: lr = 0.01, reg = 0.01, lr_decay=0.99\n",
      "Loss: 2.326970, Train accuracy: 0.196667, val accuracy: 0.206000\n",
      "Loss: 2.225428, Train accuracy: 0.196667, val accuracy: 0.206000\n",
      "Loss: 2.198843, Train accuracy: 0.196667, val accuracy: 0.206000\n",
      "Loss: 2.115324, Train accuracy: 0.226111, val accuracy: 0.227000\n",
      "Loss: 2.237705, Train accuracy: 0.274778, val accuracy: 0.275000\n",
      "Loss: 2.261943, Train accuracy: 0.292000, val accuracy: 0.298000\n",
      "Loss: 1.885802, Train accuracy: 0.367111, val accuracy: 0.357000\n",
      "Loss: 2.069123, Train accuracy: 0.410444, val accuracy: 0.400000\n",
      "Loss: 1.997017, Train accuracy: 0.449111, val accuracy: 0.444000\n",
      "Loss: 1.747780, Train accuracy: 0.475000, val accuracy: 0.465000\n",
      "Loss: 1.732529, Train accuracy: 0.501667, val accuracy: 0.502000\n",
      "Loss: 1.822215, Train accuracy: 0.527333, val accuracy: 0.530000\n",
      "Loss: 1.943392, Train accuracy: 0.549000, val accuracy: 0.549000\n",
      "Loss: 1.711373, Train accuracy: 0.580333, val accuracy: 0.574000\n",
      "Loss: 1.733904, Train accuracy: 0.569222, val accuracy: 0.577000\n",
      "Loss: 1.848984, Train accuracy: 0.575000, val accuracy: 0.579000\n",
      "Loss: 1.816858, Train accuracy: 0.593333, val accuracy: 0.598000\n",
      "Loss: 1.752488, Train accuracy: 0.596111, val accuracy: 0.590000\n",
      "Loss: 1.760267, Train accuracy: 0.602000, val accuracy: 0.596000\n",
      "Loss: 1.735353, Train accuracy: 0.606333, val accuracy: 0.613000\n",
      "Loss: 1.864748, Train accuracy: 0.619000, val accuracy: 0.623000\n",
      "Loss: 1.823269, Train accuracy: 0.620778, val accuracy: 0.615000\n",
      "Loss: 1.868805, Train accuracy: 0.610667, val accuracy: 0.620000\n",
      "Loss: 1.825146, Train accuracy: 0.631333, val accuracy: 0.629000\n",
      "Loss: 1.710285, Train accuracy: 0.642667, val accuracy: 0.639000\n",
      "Now training with the following parameters: lr = 0.01, reg = 0.001, lr_decay=0.999\n",
      "Loss: 2.151829, Train accuracy: 0.196667, val accuracy: 0.206000\n",
      "Loss: 2.184627, Train accuracy: 0.196667, val accuracy: 0.206000\n",
      "Loss: 2.300578, Train accuracy: 0.196667, val accuracy: 0.206000\n",
      "Loss: 2.154430, Train accuracy: 0.271000, val accuracy: 0.269000\n",
      "Loss: 1.916590, Train accuracy: 0.298444, val accuracy: 0.301000\n",
      "Loss: 1.969889, Train accuracy: 0.397111, val accuracy: 0.394000\n",
      "Loss: 1.726684, Train accuracy: 0.467000, val accuracy: 0.445000\n",
      "Loss: 1.749979, Train accuracy: 0.531333, val accuracy: 0.530000\n",
      "Loss: 1.480814, Train accuracy: 0.572000, val accuracy: 0.574000\n",
      "Loss: 1.477772, Train accuracy: 0.608444, val accuracy: 0.595000\n",
      "Loss: 1.228704, Train accuracy: 0.633222, val accuracy: 0.617000\n",
      "Loss: 0.802606, Train accuracy: 0.661556, val accuracy: 0.649000\n",
      "Loss: 1.157644, Train accuracy: 0.683333, val accuracy: 0.663000\n",
      "Loss: 1.211678, Train accuracy: 0.694444, val accuracy: 0.666000\n",
      "Loss: 1.242029, Train accuracy: 0.699889, val accuracy: 0.675000\n",
      "Loss: 1.000607, Train accuracy: 0.717556, val accuracy: 0.693000\n",
      "Loss: 0.787459, Train accuracy: 0.713889, val accuracy: 0.683000\n",
      "Loss: 1.197626, Train accuracy: 0.722444, val accuracy: 0.694000\n",
      "Loss: 1.095956, Train accuracy: 0.739111, val accuracy: 0.693000\n",
      "Loss: 1.064814, Train accuracy: 0.746556, val accuracy: 0.710000\n",
      "Loss: 1.107769, Train accuracy: 0.745111, val accuracy: 0.707000\n",
      "Loss: 0.892727, Train accuracy: 0.765667, val accuracy: 0.716000\n",
      "Loss: 0.874073, Train accuracy: 0.761778, val accuracy: 0.719000\n",
      "Loss: 1.066234, Train accuracy: 0.780556, val accuracy: 0.735000\n",
      "Loss: 0.898395, Train accuracy: 0.777000, val accuracy: 0.726000\n",
      "Now training with the following parameters: lr = 0.01, reg = 0.001, lr_decay=0.99\n",
      "Loss: 2.250462, Train accuracy: 0.196667, val accuracy: 0.206000\n",
      "Loss: 2.209184, Train accuracy: 0.196667, val accuracy: 0.206000\n",
      "Loss: 2.178851, Train accuracy: 0.196667, val accuracy: 0.206000\n",
      "Loss: 2.190229, Train accuracy: 0.245889, val accuracy: 0.245000\n",
      "Loss: 2.084820, Train accuracy: 0.293111, val accuracy: 0.299000\n",
      "Loss: 1.708065, Train accuracy: 0.353778, val accuracy: 0.352000\n",
      "Loss: 1.457884, Train accuracy: 0.417333, val accuracy: 0.407000\n",
      "Loss: 1.461566, Train accuracy: 0.487111, val accuracy: 0.492000\n",
      "Loss: 1.634728, Train accuracy: 0.560333, val accuracy: 0.535000\n",
      "Loss: 1.366421, Train accuracy: 0.602667, val accuracy: 0.584000\n",
      "Loss: 0.969704, Train accuracy: 0.638333, val accuracy: 0.624000\n",
      "Loss: 1.115272, Train accuracy: 0.656222, val accuracy: 0.640000\n",
      "Loss: 1.012227, Train accuracy: 0.664556, val accuracy: 0.656000\n",
      "Loss: 1.230329, Train accuracy: 0.689111, val accuracy: 0.677000\n",
      "Loss: 1.027586, Train accuracy: 0.695444, val accuracy: 0.679000\n",
      "Loss: 1.293640, Train accuracy: 0.719333, val accuracy: 0.694000\n",
      "Loss: 1.243175, Train accuracy: 0.715000, val accuracy: 0.687000\n",
      "Loss: 1.161713, Train accuracy: 0.739444, val accuracy: 0.714000\n",
      "Loss: 0.946277, Train accuracy: 0.736778, val accuracy: 0.702000\n",
      "Loss: 0.932252, Train accuracy: 0.742444, val accuracy: 0.713000\n",
      "Loss: 1.376601, Train accuracy: 0.752778, val accuracy: 0.712000\n",
      "Loss: 1.188147, Train accuracy: 0.756333, val accuracy: 0.718000\n",
      "Loss: 1.099084, Train accuracy: 0.767778, val accuracy: 0.720000\n",
      "Loss: 0.920705, Train accuracy: 0.775667, val accuracy: 0.729000\n",
      "Loss: 1.245690, Train accuracy: 0.774000, val accuracy: 0.726000\n",
      "Now training with the following parameters: lr = 0.01, reg = 0.001, lr_decay=0.999\n",
      "Loss: 2.230788, Train accuracy: 0.196667, val accuracy: 0.206000\n",
      "Loss: 2.218040, Train accuracy: 0.196667, val accuracy: 0.206000\n",
      "Loss: 2.227772, Train accuracy: 0.196667, val accuracy: 0.206000\n",
      "Loss: 1.735506, Train accuracy: 0.270222, val accuracy: 0.271000\n",
      "Loss: 1.955983, Train accuracy: 0.327778, val accuracy: 0.337000\n",
      "Loss: 1.732560, Train accuracy: 0.408667, val accuracy: 0.397000\n",
      "Loss: 1.583354, Train accuracy: 0.477000, val accuracy: 0.468000\n",
      "Loss: 1.469415, Train accuracy: 0.540000, val accuracy: 0.524000\n",
      "Loss: 1.222668, Train accuracy: 0.605222, val accuracy: 0.597000\n",
      "Loss: 1.138557, Train accuracy: 0.630556, val accuracy: 0.618000\n",
      "Loss: 1.174276, Train accuracy: 0.656111, val accuracy: 0.649000\n",
      "Loss: 1.173729, Train accuracy: 0.675111, val accuracy: 0.666000\n",
      "Loss: 1.144055, Train accuracy: 0.682444, val accuracy: 0.662000\n",
      "Loss: 1.199638, Train accuracy: 0.709889, val accuracy: 0.701000\n",
      "Loss: 0.914205, Train accuracy: 0.715556, val accuracy: 0.698000\n",
      "Loss: 1.014471, Train accuracy: 0.721778, val accuracy: 0.701000\n",
      "Loss: 1.120278, Train accuracy: 0.734667, val accuracy: 0.720000\n",
      "Loss: 0.997876, Train accuracy: 0.738667, val accuracy: 0.713000\n",
      "Loss: 0.897147, Train accuracy: 0.733333, val accuracy: 0.711000\n",
      "Loss: 0.942854, Train accuracy: 0.761667, val accuracy: 0.726000\n",
      "Loss: 0.869023, Train accuracy: 0.764889, val accuracy: 0.715000\n",
      "Loss: 1.044293, Train accuracy: 0.762333, val accuracy: 0.724000\n",
      "Loss: 0.662050, Train accuracy: 0.770556, val accuracy: 0.732000\n",
      "Loss: 0.702811, Train accuracy: 0.761667, val accuracy: 0.727000\n",
      "Loss: 0.984874, Train accuracy: 0.784556, val accuracy: 0.743000\n",
      "Now training with the following parameters: lr = 0.01, reg = 0.001, lr_decay=0.99\n",
      "Loss: 2.223859, Train accuracy: 0.196667, val accuracy: 0.206000\n",
      "Loss: 2.290711, Train accuracy: 0.196667, val accuracy: 0.206000\n",
      "Loss: 2.293495, Train accuracy: 0.196667, val accuracy: 0.206000\n",
      "Loss: 2.153228, Train accuracy: 0.264556, val accuracy: 0.262000\n",
      "Loss: 1.777459, Train accuracy: 0.318667, val accuracy: 0.324000\n",
      "Loss: 1.854320, Train accuracy: 0.420889, val accuracy: 0.400000\n",
      "Loss: 1.576286, Train accuracy: 0.470111, val accuracy: 0.462000\n",
      "Loss: 1.453880, Train accuracy: 0.515000, val accuracy: 0.510000\n",
      "Loss: 1.575288, Train accuracy: 0.562556, val accuracy: 0.552000\n",
      "Loss: 0.952409, Train accuracy: 0.604778, val accuracy: 0.572000\n",
      "Loss: 1.592641, Train accuracy: 0.633444, val accuracy: 0.606000\n",
      "Loss: 1.147186, Train accuracy: 0.660778, val accuracy: 0.644000\n",
      "Loss: 1.196705, Train accuracy: 0.675111, val accuracy: 0.657000\n",
      "Loss: 1.033840, Train accuracy: 0.696444, val accuracy: 0.682000\n",
      "Loss: 1.166263, Train accuracy: 0.709111, val accuracy: 0.690000\n",
      "Loss: 1.187469, Train accuracy: 0.719000, val accuracy: 0.692000\n",
      "Loss: 1.002786, Train accuracy: 0.727333, val accuracy: 0.701000\n",
      "Loss: 0.986336, Train accuracy: 0.741667, val accuracy: 0.710000\n",
      "Loss: 0.846545, Train accuracy: 0.745778, val accuracy: 0.712000\n",
      "Loss: 1.015066, Train accuracy: 0.734111, val accuracy: 0.703000\n",
      "Loss: 1.092781, Train accuracy: 0.761222, val accuracy: 0.703000\n",
      "Loss: 1.039531, Train accuracy: 0.758000, val accuracy: 0.718000\n",
      "Loss: 0.990837, Train accuracy: 0.759111, val accuracy: 0.699000\n",
      "Loss: 1.039243, Train accuracy: 0.779222, val accuracy: 0.722000\n",
      "Loss: 1.232528, Train accuracy: 0.781667, val accuracy: 0.725000\n",
      "Now training with the following parameters: lr = 0.01, reg = 0.0001, lr_decay=0.999\n",
      "Loss: 2.236740, Train accuracy: 0.196667, val accuracy: 0.206000\n",
      "Loss: 2.224590, Train accuracy: 0.196667, val accuracy: 0.206000\n",
      "Loss: 2.090090, Train accuracy: 0.196667, val accuracy: 0.206000\n",
      "Loss: 2.131707, Train accuracy: 0.262556, val accuracy: 0.264000\n",
      "Loss: 1.786810, Train accuracy: 0.321778, val accuracy: 0.328000\n",
      "Loss: 1.896689, Train accuracy: 0.395889, val accuracy: 0.400000\n",
      "Loss: 1.524651, Train accuracy: 0.490222, val accuracy: 0.478000\n",
      "Loss: 1.513429, Train accuracy: 0.542444, val accuracy: 0.533000\n",
      "Loss: 1.359092, Train accuracy: 0.586222, val accuracy: 0.573000\n",
      "Loss: 1.455768, Train accuracy: 0.621778, val accuracy: 0.615000\n",
      "Loss: 1.240425, Train accuracy: 0.649222, val accuracy: 0.655000\n",
      "Loss: 0.983983, Train accuracy: 0.662556, val accuracy: 0.663000\n",
      "Loss: 1.268769, Train accuracy: 0.691111, val accuracy: 0.681000\n",
      "Loss: 0.854713, Train accuracy: 0.689222, val accuracy: 0.685000\n",
      "Loss: 0.876076, Train accuracy: 0.705889, val accuracy: 0.687000\n",
      "Loss: 0.661733, Train accuracy: 0.727667, val accuracy: 0.701000\n",
      "Loss: 0.760315, Train accuracy: 0.727778, val accuracy: 0.710000\n",
      "Loss: 0.877140, Train accuracy: 0.748667, val accuracy: 0.711000\n",
      "Loss: 0.901400, Train accuracy: 0.753556, val accuracy: 0.704000\n",
      "Loss: 0.798613, Train accuracy: 0.759444, val accuracy: 0.714000\n",
      "Loss: 0.752886, Train accuracy: 0.774444, val accuracy: 0.730000\n",
      "Loss: 0.966355, Train accuracy: 0.771889, val accuracy: 0.727000\n",
      "Loss: 0.741284, Train accuracy: 0.778333, val accuracy: 0.717000\n",
      "Loss: 0.819630, Train accuracy: 0.791000, val accuracy: 0.726000\n",
      "Loss: 0.642835, Train accuracy: 0.797889, val accuracy: 0.731000\n",
      "Now training with the following parameters: lr = 0.01, reg = 0.0001, lr_decay=0.99\n",
      "Loss: 2.145323, Train accuracy: 0.196667, val accuracy: 0.206000\n",
      "Loss: 2.354404, Train accuracy: 0.196667, val accuracy: 0.206000\n",
      "Loss: 2.224312, Train accuracy: 0.196667, val accuracy: 0.206000\n",
      "Loss: 2.027653, Train accuracy: 0.260889, val accuracy: 0.256000\n",
      "Loss: 2.084393, Train accuracy: 0.293000, val accuracy: 0.299000\n",
      "Loss: 1.940510, Train accuracy: 0.375111, val accuracy: 0.378000\n",
      "Loss: 1.488129, Train accuracy: 0.448222, val accuracy: 0.439000\n",
      "Loss: 1.417230, Train accuracy: 0.498667, val accuracy: 0.505000\n",
      "Loss: 1.299317, Train accuracy: 0.563667, val accuracy: 0.554000\n",
      "Loss: 1.432581, Train accuracy: 0.610889, val accuracy: 0.593000\n",
      "Loss: 1.213322, Train accuracy: 0.654556, val accuracy: 0.634000\n",
      "Loss: 1.164877, Train accuracy: 0.668889, val accuracy: 0.652000\n",
      "Loss: 1.410401, Train accuracy: 0.687222, val accuracy: 0.664000\n",
      "Loss: 1.015407, Train accuracy: 0.701111, val accuracy: 0.689000\n",
      "Loss: 0.846590, Train accuracy: 0.714111, val accuracy: 0.680000\n",
      "Loss: 0.975049, Train accuracy: 0.722111, val accuracy: 0.695000\n",
      "Loss: 0.967727, Train accuracy: 0.729778, val accuracy: 0.698000\n",
      "Loss: 1.016401, Train accuracy: 0.732111, val accuracy: 0.705000\n",
      "Loss: 0.783250, Train accuracy: 0.745111, val accuracy: 0.711000\n",
      "Loss: 0.928181, Train accuracy: 0.750778, val accuracy: 0.720000\n",
      "Loss: 1.111302, Train accuracy: 0.772889, val accuracy: 0.710000\n",
      "Loss: 0.701006, Train accuracy: 0.775667, val accuracy: 0.714000\n",
      "Loss: 0.911151, Train accuracy: 0.779556, val accuracy: 0.721000\n",
      "Loss: 0.993279, Train accuracy: 0.781444, val accuracy: 0.722000\n",
      "Loss: 0.737637, Train accuracy: 0.790667, val accuracy: 0.732000\n",
      "Now training with the following parameters: lr = 0.01, reg = 0.0001, lr_decay=0.999\n",
      "Loss: 2.154212, Train accuracy: 0.196667, val accuracy: 0.206000\n",
      "Loss: 2.228007, Train accuracy: 0.196667, val accuracy: 0.206000\n",
      "Loss: 2.176674, Train accuracy: 0.196667, val accuracy: 0.206000\n",
      "Loss: 2.155598, Train accuracy: 0.272333, val accuracy: 0.275000\n",
      "Loss: 2.010369, Train accuracy: 0.341333, val accuracy: 0.344000\n",
      "Loss: 1.621943, Train accuracy: 0.437444, val accuracy: 0.431000\n",
      "Loss: 1.729144, Train accuracy: 0.505778, val accuracy: 0.497000\n",
      "Loss: 1.367337, Train accuracy: 0.540444, val accuracy: 0.530000\n",
      "Loss: 1.312139, Train accuracy: 0.594889, val accuracy: 0.583000\n",
      "Loss: 0.851648, Train accuracy: 0.645000, val accuracy: 0.631000\n",
      "Loss: 1.444436, Train accuracy: 0.673222, val accuracy: 0.653000\n",
      "Loss: 1.095415, Train accuracy: 0.693000, val accuracy: 0.675000\n",
      "Loss: 1.167146, Train accuracy: 0.705778, val accuracy: 0.678000\n",
      "Loss: 0.628083, Train accuracy: 0.712778, val accuracy: 0.684000\n",
      "Loss: 0.913510, Train accuracy: 0.719000, val accuracy: 0.692000\n",
      "Loss: 0.925695, Train accuracy: 0.742444, val accuracy: 0.708000\n",
      "Loss: 0.724540, Train accuracy: 0.729000, val accuracy: 0.693000\n",
      "Loss: 1.027770, Train accuracy: 0.757556, val accuracy: 0.716000\n",
      "Loss: 1.140973, Train accuracy: 0.768444, val accuracy: 0.723000\n",
      "Loss: 0.580101, Train accuracy: 0.773000, val accuracy: 0.711000\n",
      "Loss: 0.805723, Train accuracy: 0.770111, val accuracy: 0.692000\n",
      "Loss: 0.725039, Train accuracy: 0.791556, val accuracy: 0.736000\n",
      "Loss: 0.900539, Train accuracy: 0.797333, val accuracy: 0.734000\n",
      "Loss: 0.753089, Train accuracy: 0.806889, val accuracy: 0.731000\n",
      "Loss: 0.472258, Train accuracy: 0.818333, val accuracy: 0.738000\n",
      "Now training with the following parameters: lr = 0.01, reg = 0.0001, lr_decay=0.99\n",
      "Loss: 2.289794, Train accuracy: 0.196667, val accuracy: 0.206000\n",
      "Loss: 2.203307, Train accuracy: 0.196667, val accuracy: 0.206000\n",
      "Loss: 2.233605, Train accuracy: 0.196667, val accuracy: 0.206000\n",
      "Loss: 2.265737, Train accuracy: 0.268778, val accuracy: 0.268000\n",
      "Loss: 2.122183, Train accuracy: 0.315333, val accuracy: 0.318000\n",
      "Loss: 1.726427, Train accuracy: 0.405333, val accuracy: 0.403000\n",
      "Loss: 1.773183, Train accuracy: 0.482111, val accuracy: 0.473000\n",
      "Loss: 1.213449, Train accuracy: 0.543111, val accuracy: 0.540000\n",
      "Loss: 1.178263, Train accuracy: 0.592778, val accuracy: 0.578000\n",
      "Loss: 1.297549, Train accuracy: 0.621556, val accuracy: 0.591000\n",
      "Loss: 1.229049, Train accuracy: 0.654889, val accuracy: 0.626000\n",
      "Loss: 0.906861, Train accuracy: 0.664556, val accuracy: 0.651000\n",
      "Loss: 0.958884, Train accuracy: 0.686889, val accuracy: 0.679000\n",
      "Loss: 0.991370, Train accuracy: 0.704333, val accuracy: 0.694000\n",
      "Loss: 0.912740, Train accuracy: 0.710111, val accuracy: 0.693000\n",
      "Loss: 0.976040, Train accuracy: 0.726333, val accuracy: 0.703000\n",
      "Loss: 0.807364, Train accuracy: 0.741444, val accuracy: 0.712000\n",
      "Loss: 0.838159, Train accuracy: 0.739889, val accuracy: 0.704000\n",
      "Loss: 0.734921, Train accuracy: 0.760889, val accuracy: 0.709000\n",
      "Loss: 0.724566, Train accuracy: 0.767000, val accuracy: 0.725000\n",
      "Loss: 0.869691, Train accuracy: 0.763778, val accuracy: 0.713000\n",
      "Loss: 0.760997, Train accuracy: 0.771889, val accuracy: 0.729000\n",
      "Loss: 0.616297, Train accuracy: 0.782222, val accuracy: 0.710000\n",
      "Loss: 0.838091, Train accuracy: 0.791111, val accuracy: 0.727000\n",
      "Loss: 0.740719, Train accuracy: 0.785889, val accuracy: 0.715000\n"
     ]
    }
   ],
   "source": [
    "# Let's train the best one-hidden-layer network we can\n",
    "\n",
    "learning_rates = [1e-1, 1e-2]#, 1e-3]\n",
    "reg_strengths = [1e-2, 1e-3, 1e-4]\n",
    "learning_rate_decays = [0.999, 0.99]\n",
    "hidden_layer_sizes = [100, 128]\n",
    "num_epochs = 25\n",
    "batch_size = 64\n",
    "\n",
    "best_classifier = None\n",
    "best_val_accuracy = None\n",
    "best_trainer = None\n",
    "\n",
    "best_loss_history = []\n",
    "best_train_history = []\n",
    "best_val_history = []\n",
    "\n",
    "for lr in learning_rates:\n",
    "    for reg in reg_strengths:\n",
    "        for hl_size in hidden_layer_sizes:\n",
    "            for lr_decay in learning_rate_decays:\n",
    "                print(f\"Now training with the following parameters: lr = {lr}, reg = {reg}, lr_decay={lr_decay}\")\n",
    "                model = TwoLayerNet(n_input = train_X.shape[1], \n",
    "                                    n_output = 10, \n",
    "                                    hidden_layer_size = hl_size, \n",
    "                                    reg = reg)\n",
    "                dataset = Dataset(train_X, train_y, val_X, val_y)\n",
    "                trainer = Trainer(model, \n",
    "                                  dataset, \n",
    "                                  MomentumSGD(), \n",
    "                                  learning_rate=lr, \n",
    "                                  learning_rate_decay=lr_decay, \n",
    "                                  num_epochs=num_epochs,\n",
    "                                  batch_size=batch_size)\n",
    "                loss_history, train_history, val_history = trainer.fit()\n",
    "                val_accuracy = val_history[-1]\n",
    "                if not best_val_accuracy or best_val_accuracy < val_accuracy:\n",
    "                    best_val_accuracy = val_accuracy\n",
    "                    best_classifier = model\n",
    "                    best_trainer = trainer\n",
    "                    best_loss_history = loss_history\n",
    "                    best_train_history = train_history\n",
    "                    best_val_history = val_history\n",
    "\n",
    "# TODO find the best hyperparameters to train the network\n",
    "# Don't hesitate to add new values to the arrays above, perform experiments, use any tricks you want\n",
    "# You should expect to get to at least 40% of valudation accuracy\n",
    "# Save loss/train/history of the best classifier to the variables above\n",
    "\n",
    "# print('best validation accuracy achieved: %f' % best_val_accuracy)"
   ]
  },
  {
   "cell_type": "code",
   "execution_count": 174,
   "metadata": {},
   "outputs": [
    {
     "name": "stdout",
     "output_type": "stream",
     "text": [
      "best validation accuracy achieved: 0.743000\n"
     ]
    }
   ],
   "source": [
    "print('best validation accuracy achieved: %f' % best_val_accuracy)"
   ]
  },
  {
   "cell_type": "code",
   "execution_count": 175,
   "metadata": {},
   "outputs": [
    {
     "data": {
      "text/plain": [
       "[<matplotlib.lines.Line2D at 0x12dae2d90>]"
      ]
     },
     "execution_count": 175,
     "metadata": {},
     "output_type": "execute_result"
    },
    {
     "data": {
      "image/png": "[encoded data removed]",
      "text/plain": [
       "<Figure size 1080x504 with 2 Axes>"
      ]
     },
     "metadata": {
      "needs_background": "light"
     },
     "output_type": "display_data"
    }
   ],
   "source": [
    "plt.figure(figsize=(15, 7))\n",
    "plt.subplot(211)\n",
    "plt.title(\"Loss\")\n",
    "plt.plot(best_loss_history)\n",
    "plt.subplot(212)\n",
    "plt.title(\"Train/validation accuracy\")\n",
    "plt.plot(best_train_history)\n",
    "plt.plot(best_val_history)"
   ]
  },
  {
   "cell_type": "markdown",
   "metadata": {},
   "source": [
    "# Как обычно, посмотрим, как наша лучшая модель работает на тестовых данных"
   ]
  },
  {
   "cell_type": "code",
   "execution_count": 176,
   "metadata": {},
   "outputs": [
    {
     "name": "stdout",
     "output_type": "stream",
     "text": [
      "Neural net test set accuracy: 0.697000\n"
     ]
    }
   ],
   "source": [
    "test_pred = best_classifier.predict(test_X)\n",
    "test_accuracy = multiclass_accuracy(test_pred, test_y)\n",
    "print('Neural net test set accuracy: %f' % (test_accuracy, ))"
   ]
  },
  {
   "cell_type": "code",
   "execution_count": null,
   "metadata": {},
   "outputs": [],
   "source": []
  }
 ],
 "metadata": {
  "kernelspec": {
   "display_name": "dl-venv",
   "language": "python",
   "name": "dl-venv"
  },
  "language_info": {
   "codemirror_mode": {
    "name": "ipython",
    "version": 3
   },
   "file_extension": ".py",
   "mimetype": "text/x-python",
   "name": "python",
   "nbconvert_exporter": "python",
   "pygments_lexer": "ipython3",
   "version": "3.9.0"
  }
 },
 "nbformat": 4,
 "nbformat_minor": 4
}
