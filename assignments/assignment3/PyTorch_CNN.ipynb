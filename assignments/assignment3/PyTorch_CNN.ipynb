{
  "nbformat": 4,
  "nbformat_minor": 0,
  "metadata": {
    "accelerator": "GPU",
    "colab": {
      "name": "PyTorch_CNN.ipynb",
      "provenance": [],
      "collapsed_sections": []
    },
    "kernelspec": {
      "display_name": "Python 3",
      "language": "python",
      "name": "python3"
    },
    "language_info": {
      "codemirror_mode": {
        "name": "ipython",
        "version": 3
      },
      "file_extension": ".py",
      "mimetype": "text/x-python",
      "name": "python",
      "nbconvert_exporter": "python",
      "pygments_lexer": "ipython3",
      "version": "3.7.0"
    }
  },
  "cells": [
    {
      "cell_type": "markdown",
      "metadata": {
        "id": "7v4GLYk_eqDB"
      },
      "source": [
        "# Задание 3.2 - сверточные нейронные сети (CNNs) в PyTorch\n",
        "\n",
        "Это упражнение мы буде выполнять в Google Colab - https://colab.research.google.com/  \n",
        "Google Colab позволяет запускать код в notebook в облаке Google, где можно воспользоваться бесплатным GPU!  \n",
        "\n",
        "Авторы курса благодарят компанию Google и надеятся, что праздник не закончится.\n",
        "\n",
        "Туториал по настройке Google Colab:  \n",
        "https://medium.com/deep-learning-turkey/google-colab-free-gpu-tutorial-e113627b9f5d  \n",
        "(Keras инсталлировать не нужно, наш notebook сам установит PyTorch)\n"
      ]
    },
    {
      "cell_type": "code",
      "metadata": {
        "colab": {
          "base_uri": "https://localhost:8080/"
        },
        "id": "FcXBeP1O7cnY",
        "outputId": "23dbcf60-bd4d-4052-9888-28cd900feb8f"
      },
      "source": [
        "# Intstall PyTorch and download data\n",
        "!pip3 install torch torchvision\n",
        "\n",
        "!wget -c http://ufldl.stanford.edu/housenumbers/train_32x32.mat http://ufldl.stanford.edu/housenumbers/test_32x32.mat"
      ],
      "execution_count": 2,
      "outputs": [
        {
          "output_type": "stream",
          "text": [
            "Requirement already satisfied: torch in /usr/local/lib/python3.6/dist-packages (1.7.0+cu101)\n",
            "Requirement already satisfied: torchvision in /usr/local/lib/python3.6/dist-packages (0.8.1+cu101)\n",
            "Requirement already satisfied: future in /usr/local/lib/python3.6/dist-packages (from torch) (0.16.0)\n",
            "Requirement already satisfied: dataclasses in /usr/local/lib/python3.6/dist-packages (from torch) (0.8)\n",
            "Requirement already satisfied: typing-extensions in /usr/local/lib/python3.6/dist-packages (from torch) (3.7.4.3)\n",
            "Requirement already satisfied: numpy in /usr/local/lib/python3.6/dist-packages (from torch) (1.19.5)\n",
            "Requirement already satisfied: pillow>=4.1.1 in /usr/local/lib/python3.6/dist-packages (from torchvision) (7.0.0)\n",
            "--2021-01-12 10:41:44--  http://ufldl.stanford.edu/housenumbers/train_32x32.mat\n",
            "Resolving ufldl.stanford.edu (ufldl.stanford.edu)... 171.64.68.10\n",
            "Connecting to ufldl.stanford.edu (ufldl.stanford.edu)|171.64.68.10|:80... connected.\n",
            "HTTP request sent, awaiting response... 200 OK\n",
            "Length: 182040794 (174M) [text/plain]\n",
            "Saving to: ‘train_32x32.mat’\n",
            "\n",
            "train_32x32.mat     100%[===================>] 173.61M  29.1MB/s    in 7.1s    \n",
            "\n",
            "2021-01-12 10:41:51 (24.3 MB/s) - ‘train_32x32.mat’ saved [182040794/182040794]\n",
            "\n",
            "--2021-01-12 10:41:51--  http://ufldl.stanford.edu/housenumbers/test_32x32.mat\n",
            "Reusing existing connection to ufldl.stanford.edu:80.\n",
            "HTTP request sent, awaiting response... 200 OK\n",
            "Length: 64275384 (61M) [text/plain]\n",
            "Saving to: ‘test_32x32.mat’\n",
            "\n",
            "test_32x32.mat      100%[===================>]  61.30M  38.1MB/s    in 1.6s    \n",
            "\n",
            "2021-01-12 10:41:53 (38.1 MB/s) - ‘test_32x32.mat’ saved [64275384/64275384]\n",
            "\n",
            "FINISHED --2021-01-12 10:41:53--\n",
            "Total wall clock time: 9.0s\n",
            "Downloaded: 2 files, 235M in 8.8s (26.8 MB/s)\n"
          ],
          "name": "stdout"
        }
      ]
    },
    {
      "cell_type": "code",
      "metadata": {
        "id": "-afwWw-Q85vD"
      },
      "source": [
        "from collections import namedtuple\n",
        "\n",
        "import matplotlib.pyplot as plt\n",
        "import numpy as np\n",
        "import PIL\n",
        "import torch\n",
        "import torch.nn as nn\n",
        "import torch.optim as optim\n",
        "import torchvision.datasets as dset\n",
        "from torch.utils.data.sampler import SubsetRandomSampler\n",
        "\n",
        "from torchvision import transforms"
      ],
      "execution_count": 3,
      "outputs": []
    },
    {
      "cell_type": "code",
      "metadata": {
        "id": "NNU-OD9O9ltP"
      },
      "source": [
        "device = torch.device(\"cuda:0\") # Let's make sure GPU is available!"
      ],
      "execution_count": 4,
      "outputs": []
    },
    {
      "cell_type": "markdown",
      "metadata": {
        "id": "SfIpUDzSeqDH"
      },
      "source": [
        "# Загружаем данные"
      ]
    },
    {
      "cell_type": "code",
      "metadata": {
        "id": "YAvkoRx-9FsP"
      },
      "source": [
        "# First, lets load the dataset\n",
        "data_train = dset.SVHN('./', \n",
        "                       transform=transforms.Compose([\n",
        "                           transforms.ToTensor(),\n",
        "                           transforms.Normalize(mean=[0.43,0.44,0.47],\n",
        "                                               std=[0.20,0.20,0.20])                           \n",
        "                       ])\n",
        "                      )\n",
        "data_test = dset.SVHN('./', split='test', transform=transforms.Compose([\n",
        "                           transforms.ToTensor(),\n",
        "                           transforms.Normalize(mean=[0.43,0.44,0.47],\n",
        "                                               std=[0.20,0.20,0.20])                           \n",
        "                       ]))"
      ],
      "execution_count": 5,
      "outputs": []
    },
    {
      "cell_type": "markdown",
      "metadata": {
        "id": "R0IfkAcMeqDI"
      },
      "source": [
        "Разделяем данные на training и validation.\n",
        "\n",
        "На всякий случай для подробностей - https://pytorch.org/tutorials/beginner/data_loading_tutorial.html"
      ]
    },
    {
      "cell_type": "code",
      "metadata": {
        "id": "YRnr8CPg7Hli"
      },
      "source": [
        "batch_size = 64\n",
        "\n",
        "data_size = data_train.data.shape[0]\n",
        "validation_split = .2\n",
        "split = int(np.floor(validation_split * data_size))\n",
        "indices = list(range(data_size))\n",
        "np.random.shuffle(indices)\n",
        "\n",
        "train_indices, val_indices = indices[split:], indices[:split]\n",
        "\n",
        "train_sampler = SubsetRandomSampler(train_indices)\n",
        "val_sampler = SubsetRandomSampler(val_indices)\n",
        "\n",
        "train_loader = torch.utils.data.DataLoader(data_train, batch_size=batch_size, \n",
        "                                           sampler=train_sampler)\n",
        "val_loader = torch.utils.data.DataLoader(data_train, batch_size=batch_size,\n",
        "                                         sampler=val_sampler)"
      ],
      "execution_count": 6,
      "outputs": []
    },
    {
      "cell_type": "code",
      "metadata": {
        "id": "LyYvt-T67PBG"
      },
      "source": [
        "# We'll use a special helper module to shape it into a flat tensor\n",
        "class Flattener(nn.Module):\n",
        "    def forward(self, x):\n",
        "        batch_size, *_ = x.shape\n",
        "        return x.view(batch_size, -1)"
      ],
      "execution_count": 7,
      "outputs": []
    },
    {
      "cell_type": "markdown",
      "metadata": {
        "id": "KBSPVqjheqDI"
      },
      "source": [
        "Создадим простейшую сеть с новыми слоями:  \n",
        "Convolutional - `nn.Conv2d`  \n",
        "MaxPool - `nn.MaxPool2d`"
      ]
    },
    {
      "cell_type": "code",
      "metadata": {
        "id": "w9SFVGZP7SQd"
      },
      "source": [
        "nn_model = nn.Sequential(                         #3x32x32\n",
        "            nn.Conv2d(3, 64, 3, padding=1),       #64x32x32\n",
        "            nn.ReLU(inplace=True),                #64x32x32\n",
        "            nn.MaxPool2d(4),                      #64x8x8\n",
        "            nn.Conv2d(64, 64, 3, padding=1),      #64x8x8\n",
        "            nn.ReLU(inplace=True),                #64x8x8\n",
        "            nn.MaxPool2d(4),                      #64x2x2\n",
        "            Flattener(),                          #64*2*2x1x1\n",
        "            nn.Linear(64*2*2, 10),\n",
        "          )\n",
        "\n",
        "nn_model.type(torch.cuda.FloatTensor)\n",
        "nn_model.to(device)\n",
        "\n",
        "loss = nn.CrossEntropyLoss().type(torch.cuda.FloatTensor)\n",
        "optimizer = optim.SGD(nn_model.parameters(), lr=1e-1, weight_decay=1e-4)"
      ],
      "execution_count": 8,
      "outputs": []
    },
    {
      "cell_type": "markdown",
      "metadata": {
        "id": "wmJIj7qMeqDJ"
      },
      "source": [
        "Восстановите функцию `compute_accuracy` из прошлого задания.  \n",
        "Единственное отличие в новом - она должна передать данные на GPU прежде чем прогонять через модель. Сделайте это так же, как это делает функция `train_model`"
      ]
    },
    {
      "cell_type": "code",
      "metadata": {
        "colab": {
          "base_uri": "https://localhost:8080/"
        },
        "id": "2ek3KVQK7hJ6",
        "outputId": "a59a614e-30ab-4fac-e585-891f5a2a4905"
      },
      "source": [
        "def train_model(model, train_loader, val_loader, loss, optimizer, num_epochs):    \n",
        "    loss_history = []\n",
        "    train_history = []\n",
        "    val_history = []\n",
        "    for epoch in range(num_epochs):\n",
        "        model.train() # Enter train mode\n",
        "        \n",
        "        loss_accum = 0\n",
        "        correct_samples = 0\n",
        "        total_samples = 0\n",
        "        for i_step, (x, y) in enumerate(train_loader):\n",
        "          \n",
        "            x_gpu = x.to(device)\n",
        "            y_gpu = y.to(device)\n",
        "            prediction = model(x_gpu)    \n",
        "            loss_value = loss(prediction, y_gpu)\n",
        "            optimizer.zero_grad()\n",
        "            loss_value.backward()\n",
        "            optimizer.step()\n",
        "            \n",
        "            _, indices = torch.max(prediction, 1)\n",
        "            correct_samples += torch.sum(indices == y_gpu)\n",
        "            total_samples += y.shape[0]\n",
        "            \n",
        "            loss_accum += loss_value\n",
        "\n",
        "        ave_loss = loss_accum / i_step\n",
        "        train_accuracy = float(correct_samples) / total_samples\n",
        "        val_accuracy = compute_accuracy(model, val_loader)\n",
        "        \n",
        "        loss_history.append(float(ave_loss))\n",
        "        train_history.append(train_accuracy)\n",
        "        val_history.append(val_accuracy)\n",
        "        \n",
        "        print(\"Average loss: %f, Train accuracy: %f, Val accuracy: %f\" % (ave_loss, train_accuracy, val_accuracy))\n",
        "        \n",
        "    return loss_history, train_history, val_history\n",
        "        \n",
        "def compute_accuracy(model, loader):\n",
        "    \"\"\"\n",
        "    Computes accuracy on the dataset wrapped in a loader\n",
        "    \n",
        "    Returns: accuracy as a float value between 0 and 1\n",
        "    \"\"\"\n",
        "    model.eval() # Evaluation mode\n",
        "\n",
        "    with torch.no_grad():\n",
        "        correct_samples = 0\n",
        "        total_samples = 0\n",
        "        for i_step, (x, y) in enumerate(loader):\n",
        "            x_gpu = x.to(device)\n",
        "            y_gpu = y.to(device)\n",
        "            prediction = model(x_gpu)    \n",
        "            _, indices = torch.max(prediction, 1)\n",
        "            correct_samples += torch.sum(indices == y_gpu)\n",
        "            total_samples += y.shape[0]\n",
        "\n",
        "    return float(correct_samples) / total_samples\n",
        "    # TODO: Copy implementation from previous assignment\n",
        "    # Don't forget to move the data to device before running it through the model!\n",
        "    \n",
        "    # raise Exception(\"Not implemented\")\n",
        "\n",
        "loss_history, train_history, val_history = train_model(nn_model, train_loader, val_loader, loss, optimizer, 5)"
      ],
      "execution_count": 9,
      "outputs": [
        {
          "output_type": "stream",
          "text": [
            "Average loss: 1.410763, Train accuracy: 0.528086, Val accuracy: 0.715378\n",
            "Average loss: 0.719593, Train accuracy: 0.781456, Val accuracy: 0.775169\n",
            "Average loss: 0.610382, Train accuracy: 0.816640, Val accuracy: 0.830865\n",
            "Average loss: 0.567428, Train accuracy: 0.831007, Val accuracy: 0.816736\n",
            "Average loss: 0.528010, Train accuracy: 0.841450, Val accuracy: 0.844311\n"
          ],
          "name": "stdout"
        }
      ]
    },
    {
      "cell_type": "markdown",
      "metadata": {
        "id": "6a-3a1ZFGEw_"
      },
      "source": [
        "# Аугментация данных (Data augmentation)\n",
        "\n",
        "В работе с изображениями одним из особенно важных методов является аугментация данных - то есть, генерация дополнительных данных для тренировки на основе изначальных.   \n",
        "Таким образом, мы получаем возможность \"увеличить\" набор данных для тренировки, что ведет к лучшей работе сети.\n",
        "Важно, чтобы аугментированные данные были похожи на те, которые могут встретиться в реальной жизни, иначе польза от аугментаций уменьшается и может ухудшить работу сети.\n",
        "\n",
        "С PyTorch идут несколько таких алгоритмов, называемых `transforms`. Более подробно про них можно прочитать тут -\n",
        "https://pytorch.org/tutorials/beginner/data_loading_tutorial.html#transforms\n",
        "\n",
        "Ниже мы используем следующие алгоритмы генерации:\n",
        "- ColorJitter - случайное изменение цвета\n",
        "- RandomHorizontalFlip - горизонтальное отражение с вероятностью 50%\n",
        "- RandomVerticalFlip - вертикальное отражение с вероятностью 50%\n",
        "- RandomRotation - случайный поворот"
      ]
    },
    {
      "cell_type": "code",
      "metadata": {
        "id": "jCWMUWmr7t5g"
      },
      "source": [
        "tfs = transforms.Compose([\n",
        "    transforms.ColorJitter(hue=.50, saturation=.50),\n",
        "    transforms.RandomHorizontalFlip(),\n",
        "    transforms.RandomVerticalFlip(),\n",
        "    transforms.RandomRotation(50, resample=PIL.Image.BILINEAR),\n",
        "    transforms.ToTensor(),\n",
        "    transforms.Normalize(mean=[0.43,0.44,0.47],\n",
        "                       std=[0.20,0.20,0.20])                           \n",
        "])\n",
        "\n",
        "# Create augmented train dataset\n",
        "data_aug_train = dset.SVHN('./', \n",
        "                       transform=tfs\n",
        "                      )\n",
        "\n",
        "train_aug_loader = torch.utils.data.DataLoader(data_aug_train, batch_size=batch_size, \n",
        "                                           sampler=train_sampler)"
      ],
      "execution_count": 10,
      "outputs": []
    },
    {
      "cell_type": "markdown",
      "metadata": {
        "id": "7Qi8xFfseqDK"
      },
      "source": [
        "Визуализируем результаты агментации (вообще, смотреть на сгенерированные данные всегда очень полезно)."
      ]
    },
    {
      "cell_type": "code",
      "metadata": {
        "colab": {
          "base_uri": "https://localhost:8080/",
          "height": 111
        },
        "id": "YlJJEro1KZ45",
        "outputId": "1450df2b-2476-4c83-f00a-6de62d9d3b40"
      },
      "source": [
        "# TODO: Visualize some augmented images!\n",
        "# hint: you can create new datasets and loaders to accomplish this\n",
        "\n",
        "# Based on the visualizations, should we keep all the augmentations?\n",
        "\n",
        "tfs = transforms.Compose([\n",
        "    transforms.ColorJitter(hue=.20, saturation=.20),\n",
        "    transforms.RandomHorizontalFlip(),\n",
        "    transforms.RandomVerticalFlip(),\n",
        "    transforms.RandomRotation(10, resample=PIL.Image.BILINEAR),\n",
        "])\n",
        "\n",
        "data_aug_vis = dset.SVHN('./', \n",
        "                       transform=tfs\n",
        "                      )\n",
        "\n",
        "plt.figure(figsize=(30, 3))\n",
        "\n",
        "for i, (x, y) in enumerate(data_aug_vis):\n",
        "    if i == 10:\n",
        "        break\n",
        "    plt.subplot(1, 10, i+1)\n",
        "    plt.grid(False)\n",
        "    plt.imshow(x)\n",
        "    plt.axis('off')"
      ],
      "execution_count": 11,
      "outputs": [
        {
          "output_type": "display_data",
          "data": {
            "image/png": "[encoded data removed]",
            "text/plain": [
              "<Figure size 2160x216 with 10 Axes>"
            ]
          },
          "metadata": {
            "tags": [],
            "needs_background": "light"
          }
        }
      ]
    },
    {
      "cell_type": "markdown",
      "metadata": {
        "id": "o2LrmsYHoguB"
      },
      "source": [
        "Все ли агментации одинаково полезны на этом наборе данных? Могут ли быть среди них те, которые собьют модель с толку?\n",
        "\n",
        "Выберите из них только корректные"
      ]
    },
    {
      "cell_type": "code",
      "metadata": {
        "id": "evro9ksXGs9u"
      },
      "source": [
        "# TODO: \n",
        "tfs2 = transforms.Compose([\n",
        "    transforms.ColorJitter(hue=.20, saturation=.20),\n",
        "    # transforms.RandomRotation(10, resample=PIL.Image.BILINEAR),\n",
        "    # transforms.RandomVerticalFlip(),\n",
        "    # TODO: Add good augmentations\n",
        "    transforms.ToTensor(),\n",
        "    transforms.Normalize(mean=[0.43,0.44,0.47],\n",
        "                       std=[0.20,0.20,0.20])                           \n",
        "])\n",
        "\n",
        "data_aug_train_2 = dset.SVHN('./', \n",
        "                       transform=tfs2\n",
        "                      )\n",
        "\n",
        "# TODO create new instances of loaders with the augmentations you chose\n",
        "train_aug_loader = torch.utils.data.DataLoader(data_aug_train_2, batch_size=batch_size, \n",
        "                                           sampler=train_sampler)"
      ],
      "execution_count": 12,
      "outputs": []
    },
    {
      "cell_type": "code",
      "metadata": {
        "colab": {
          "base_uri": "https://localhost:8080/"
        },
        "id": "PeO6Zw0DHqPR",
        "outputId": "dca4378b-c6d7-48e7-ae99-865fec498214"
      },
      "source": [
        "# Finally, let's train with augmentations!\n",
        "\n",
        "# Note we shouldn't use augmentations on validation\n",
        "\n",
        "loss_history, train_history, val_history = train_model(nn_model, train_aug_loader, val_loader, loss, optimizer, 5)"
      ],
      "execution_count": 13,
      "outputs": [
        {
          "output_type": "stream",
          "text": [
            "Average loss: 0.521036, Train accuracy: 0.844982, Val accuracy: 0.842468\n",
            "Average loss: 0.497476, Train accuracy: 0.851500, Val accuracy: 0.845881\n",
            "Average loss: 0.483406, Train accuracy: 0.855970, Val accuracy: 0.853594\n",
            "Average loss: 0.466781, Train accuracy: 0.860373, Val accuracy: 0.863968\n",
            "Average loss: 0.459985, Train accuracy: 0.862983, Val accuracy: 0.861306\n"
          ],
          "name": "stdout"
        }
      ]
    },
    {
      "cell_type": "code",
      "metadata": {
        "id": "iIy--mP_sVG5",
        "outputId": "854517cb-72b2-4fa7-86e3-6b5509c08850",
        "colab": {
          "base_uri": "https://localhost:8080/"
        }
      },
      "source": [
        "data_aug_train_2.data.shape"
      ],
      "execution_count": 14,
      "outputs": [
        {
          "output_type": "execute_result",
          "data": {
            "text/plain": [
              "(73257, 3, 32, 32)"
            ]
          },
          "metadata": {
            "tags": []
          },
          "execution_count": 14
        }
      ]
    },
    {
      "cell_type": "markdown",
      "metadata": {
        "id": "r0bcioK6JBDK"
      },
      "source": [
        "# LeNet\n",
        "Попробуем имплементировать классическую архитектуру сверточной нейронной сети, предложенную Яном ЛеКуном в 1998 году. В свое время она достигла впечатляющих результатов на MNIST, посмотрим как она справится с SVHN?\n",
        "Она описана в статье [\"Gradient Based Learning Applied to Document Recognition\"](http://yann.lecun.com/exdb/publis/pdf/lecun-01a.pdf), попробуйте прочитать ключевые части и имплементировать предложенную архитетуру на PyTorch.\n",
        "\n",
        "Реализовывать слои и функцию ошибки LeNet, которых нет в PyTorch, **не нужно** - просто возьмите их размеры и переведите в уже известные нам Convolutional, Pooling и Fully Connected layers.\n",
        "\n",
        "Если в статье не очень понятно, можно просто погуглить LeNet и разобраться в деталях :)"
      ]
    },
    {
      "cell_type": "code",
      "metadata": {
        "id": "ieEzZUglJAUB"
      },
      "source": [
        "# TODO: Implement LeNet-like architecture for SVHN task\n",
        "lenet_model = nn.Sequential(                       #3x32x32\n",
        "            nn.Conv2d(3, 6, 5, padding=0),         #6x28x28\n",
        "            nn.ReLU(inplace=True),                 #6x28x28\n",
        "            nn.MaxPool2d(2),                       #6x14x14\n",
        "            nn.Conv2d(6, 16, 5, padding=0),        #16x10x10\n",
        "            nn.ReLU(inplace=True),                 #16x10x10\n",
        "            nn.MaxPool2d(2),                       #16x5x5\n",
        "            nn.Conv2d(16, 120, 5, padding=0),      #120x1x1\n",
        "            nn.ReLU(inplace=True),                 #120x1x1\n",
        "            Flattener(),                           \n",
        "            nn.Linear(120, 84),\n",
        "            nn.ReLU(inplace=True),\n",
        "            nn.Linear(84, 10),\n",
        "          )\n",
        "\n",
        "lenet_model.type(torch.cuda.FloatTensor)\n",
        "lenet_model.to(device)\n",
        "\n",
        "loss = nn.CrossEntropyLoss().type(torch.cuda.FloatTensor)\n",
        "optimizer = optim.SGD(lenet_model.parameters(), lr=1e-1, weight_decay=1e-4)"
      ],
      "execution_count": 15,
      "outputs": []
    },
    {
      "cell_type": "code",
      "metadata": {
        "colab": {
          "base_uri": "https://localhost:8080/"
        },
        "id": "WMmaPfdeKk9H",
        "outputId": "1ca239e2-f077-4f26-b87b-4b8390d789bf"
      },
      "source": [
        "# Let's train it!\n",
        "loss_history, train_history, val_history = train_model(lenet_model, train_aug_loader, val_loader, loss, optimizer, 10)"
      ],
      "execution_count": 16,
      "outputs": [
        {
          "output_type": "stream",
          "text": [
            "Average loss: 1.228518, Train accuracy: 0.587670, Val accuracy: 0.832981\n",
            "Average loss: 0.510850, Train accuracy: 0.845579, Val accuracy: 0.868541\n",
            "Average loss: 0.410852, Train accuracy: 0.877180, Val accuracy: 0.878370\n",
            "Average loss: 0.360911, Train accuracy: 0.892775, Val accuracy: 0.873524\n",
            "Average loss: 0.320828, Train accuracy: 0.902706, Val accuracy: 0.883762\n",
            "Average loss: 0.292999, Train accuracy: 0.911613, Val accuracy: 0.890929\n",
            "Average loss: 0.269732, Train accuracy: 0.917807, Val accuracy: 0.890861\n",
            "Average loss: 0.252380, Train accuracy: 0.922687, Val accuracy: 0.877346\n",
            "Average loss: 0.233784, Train accuracy: 0.928147, Val accuracy: 0.887721\n",
            "Average loss: 0.218132, Train accuracy: 0.932311, Val accuracy: 0.884581\n"
          ],
          "name": "stdout"
        }
      ]
    },
    {
      "cell_type": "markdown",
      "metadata": {
        "id": "u_O9qiYySvuj"
      },
      "source": [
        "# Подбор гиперпараметров"
      ]
    },
    {
      "cell_type": "code",
      "metadata": {
        "id": "sXEqu1XhzbeJ"
      },
      "source": [
        "def train_model_lr_schedule(model, train_loader, val_loader, loss, optimizer, num_epochs, step_size, gamma):    \n",
        "    loss_history = []\n",
        "    train_history = []\n",
        "    val_history = []\n",
        "\n",
        "    scheduler = torch.optim.lr_scheduler.StepLR(optimizer=optimizer, step_size=step_size, gamma=gamma, last_epoch=-1, verbose=False)\n",
        "\n",
        "    for epoch in range(num_epochs):\n",
        "        model.train() # Enter train mode\n",
        "        \n",
        "        loss_accum = 0\n",
        "        correct_samples = 0\n",
        "        total_samples = 0\n",
        "        for i_step, (x, y) in enumerate(train_loader):\n",
        "          \n",
        "            x_gpu = x.to(device)\n",
        "            y_gpu = y.to(device)\n",
        "            prediction = model(x_gpu)    \n",
        "            loss_value = loss(prediction, y_gpu)\n",
        "            optimizer.zero_grad()\n",
        "            loss_value.backward()\n",
        "            optimizer.step()\n",
        "            \n",
        "            _, indices = torch.max(prediction, 1)\n",
        "            correct_samples += torch.sum(indices == y_gpu)\n",
        "            total_samples += y.shape[0]\n",
        "            \n",
        "            loss_accum += loss_value\n",
        "\n",
        "        ave_loss = loss_accum / i_step\n",
        "        train_accuracy = float(correct_samples) / total_samples\n",
        "        val_accuracy = compute_accuracy(model, val_loader)\n",
        "        \n",
        "        loss_history.append(float(ave_loss))\n",
        "        train_history.append(train_accuracy)\n",
        "        val_history.append(val_accuracy)\n",
        "        \n",
        "        print(\"Average loss: %f, Train accuracy: %f, Val accuracy: %f\" % (ave_loss, train_accuracy, val_accuracy))\n",
        "        scheduler.step()\n",
        "\n",
        "    return loss_history, train_history, val_history"
      ],
      "execution_count": 17,
      "outputs": []
    },
    {
      "cell_type": "code",
      "metadata": {
        "colab": {
          "base_uri": "https://localhost:8080/"
        },
        "id": "i6mhfdQ9K-N3",
        "outputId": "f7a5ca56-c2b6-4a3a-f765-163e5fd5515a"
      },
      "source": [
        "# The key hyperparameters we're going to tune are learning speed, annealing rate and regularization\n",
        "# We also encourage you to try different optimizers as well\n",
        "\n",
        "Hyperparams = namedtuple(\"Hyperparams\", ['learning_rate', 'anneal_epochs', 'reg'])\n",
        "RunResult = namedtuple(\"RunResult\", ['model', 'train_history', 'val_history', 'final_val_accuracy'])\n",
        "\n",
        "learning_rates = [1e-1]#[1e0, 1e-1, 1e-2, 1e-3, 1e-4]\n",
        "anneal_coeff = 0.2\n",
        "anneal_epochs = [1, 5, 10, 15, 20, 50]\n",
        "reg = [1e-3, 1e-4, 1e-5, 1e-7]\n",
        "\n",
        "batch_size = 64\n",
        "epoch_num = 5\n",
        "\n",
        "# Record all the runs here\n",
        "# Key should be Hyperparams and values should be RunResult\n",
        "run_record = {} \n",
        "# Use grid search or random search and record all runs in run_record dictionnary \n",
        "# Important: perform search in logarithmic space!\n",
        "\n",
        "for i in reversed(learning_rates):\n",
        "    for k in anneal_epochs:\n",
        "        for j in reg:\n",
        "              print(f\"Now running parameters: lr = {i}, anneal_epochs = {k}, reg = {j}\")\n",
        "              lenet_model = nn.Sequential(             #3x32x32\n",
        "                nn.Conv2d(3, 6, 5, padding=0),         #6x28x28\n",
        "                nn.ReLU(inplace=True),                 #6x28x28\n",
        "                nn.MaxPool2d(2),                       #6x14x14\n",
        "                nn.Conv2d(6, 16, 5, padding=0),        #16x10x10\n",
        "                nn.ReLU(inplace=True),                 #16x10x10\n",
        "                nn.MaxPool2d(2),                       #16x5x5\n",
        "                nn.Conv2d(16, 120, 5, padding=0),      #120x1x1\n",
        "                nn.ReLU(inplace=True),                 #120x1x1\n",
        "                Flattener(),                           \n",
        "                nn.Linear(120, 84),\n",
        "                nn.ReLU(inplace=True),\n",
        "                nn.Linear(84, 10),\n",
        "                )\n",
        "              lenet_model.type(torch.cuda.FloatTensor)\n",
        "              lenet_model.to(device)\n",
        "              optimizer = optim.SGD(lenet_model.parameters(), lr=i, weight_decay=j)\n",
        "              loss_history, train_history, val_history = train_model_lr_schedule(\n",
        "                  lenet_model, train_aug_loader, val_loader, loss, optimizer, epoch_num, k, 0.2)\n",
        "              run_record[Hyperparams(i,k,j)] = RunResult(lenet_model, train_history, val_history, val_history[-1])\n",
        "              \n",
        "# TODO: Your code here!"
      ],
      "execution_count": 33,
      "outputs": [
        {
          "output_type": "stream",
          "text": [
            "Now running parameters: lr = 0.1, anneal_epochs = 1, reg = 0.001\n",
            "Average loss: 1.284900, Train accuracy: 0.567519, Val accuracy: 0.824927\n",
            "Average loss: 0.476443, Train accuracy: 0.858206, Val accuracy: 0.858440\n",
            "Average loss: 0.419736, Train accuracy: 0.876258, Val accuracy: 0.865060\n",
            "Average loss: 0.408769, Train accuracy: 0.879415, Val accuracy: 0.866767\n",
            "Average loss: 0.406031, Train accuracy: 0.881138, Val accuracy: 0.867176\n",
            "Now running parameters: lr = 0.1, anneal_epochs = 1, reg = 0.0001\n",
            "Average loss: 1.271227, Train accuracy: 0.573303, Val accuracy: 0.817146\n",
            "Average loss: 0.463802, Train accuracy: 0.862198, Val accuracy: 0.866903\n",
            "Average loss: 0.404101, Train accuracy: 0.879910, Val accuracy: 0.874138\n",
            "Average loss: 0.392551, Train accuracy: 0.883920, Val accuracy: 0.874480\n",
            "Average loss: 0.389973, Train accuracy: 0.884585, Val accuracy: 0.874957\n",
            "Now running parameters: lr = 0.1, anneal_epochs = 1, reg = 1e-05\n",
            "Average loss: 1.311198, Train accuracy: 0.559345, Val accuracy: 0.820422\n",
            "Average loss: 0.471874, Train accuracy: 0.861482, Val accuracy: 0.865948\n",
            "Average loss: 0.412629, Train accuracy: 0.879176, Val accuracy: 0.870999\n",
            "Average loss: 0.400291, Train accuracy: 0.884176, Val accuracy: 0.872159\n",
            "Average loss: 0.397382, Train accuracy: 0.883920, Val accuracy: 0.872568\n",
            "Now running parameters: lr = 0.1, anneal_epochs = 1, reg = 1e-07\n",
            "Average loss: 1.307687, Train accuracy: 0.558987, Val accuracy: 0.800287\n",
            "Average loss: 0.469950, Train accuracy: 0.863922, Val accuracy: 0.867586\n",
            "Average loss: 0.409622, Train accuracy: 0.880797, Val accuracy: 0.876186\n",
            "Average loss: 0.396559, Train accuracy: 0.884363, Val accuracy: 0.876186\n",
            "Average loss: 0.393587, Train accuracy: 0.885370, Val accuracy: 0.876595\n",
            "Now running parameters: lr = 0.1, anneal_epochs = 5, reg = 0.001\n",
            "Average loss: 1.240173, Train accuracy: 0.581698, Val accuracy: 0.841581\n",
            "Average loss: 0.513585, Train accuracy: 0.845186, Val accuracy: 0.868883\n",
            "Average loss: 0.422123, Train accuracy: 0.874330, Val accuracy: 0.869702\n",
            "Average loss: 0.374664, Train accuracy: 0.887469, Val accuracy: 0.870316\n",
            "Average loss: 0.339294, Train accuracy: 0.898628, Val accuracy: 0.882875\n",
            "Now running parameters: lr = 0.1, anneal_epochs = 5, reg = 0.0001\n",
            "Average loss: 1.296253, Train accuracy: 0.561990, Val accuracy: 0.837690\n",
            "Average loss: 0.519129, Train accuracy: 0.846108, Val accuracy: 0.865538\n",
            "Average loss: 0.424316, Train accuracy: 0.875695, Val accuracy: 0.879462\n",
            "Average loss: 0.373633, Train accuracy: 0.888868, Val accuracy: 0.881988\n",
            "Average loss: 0.335077, Train accuracy: 0.899004, Val accuracy: 0.876800\n",
            "Now running parameters: lr = 0.1, anneal_epochs = 5, reg = 1e-05\n",
            "Average loss: 1.311440, Train accuracy: 0.557605, Val accuracy: 0.823015\n",
            "Average loss: 0.512099, Train accuracy: 0.847371, Val accuracy: 0.873729\n",
            "Average loss: 0.419942, Train accuracy: 0.874945, Val accuracy: 0.869019\n",
            "Average loss: 0.367603, Train accuracy: 0.890796, Val accuracy: 0.880622\n",
            "Average loss: 0.333655, Train accuracy: 0.901051, Val accuracy: 0.892908\n",
            "Now running parameters: lr = 0.1, anneal_epochs = 5, reg = 1e-07\n",
            "Average loss: 1.170628, Train accuracy: 0.611746, Val accuracy: 0.834209\n",
            "Average loss: 0.492835, Train accuracy: 0.853343, Val accuracy: 0.865265\n",
            "Average loss: 0.401228, Train accuracy: 0.880234, Val accuracy: 0.885742\n",
            "Average loss: 0.348755, Train accuracy: 0.896120, Val accuracy: 0.892226\n",
            "Average loss: 0.311148, Train accuracy: 0.908456, Val accuracy: 0.892840\n",
            "Now running parameters: lr = 0.1, anneal_epochs = 10, reg = 0.001\n",
            "Average loss: 1.185866, Train accuracy: 0.606593, Val accuracy: 0.803085\n",
            "Average loss: 0.500376, Train accuracy: 0.849503, Val accuracy: 0.865197\n",
            "Average loss: 0.412888, Train accuracy: 0.876873, Val accuracy: 0.880008\n",
            "Average loss: 0.365251, Train accuracy: 0.891001, Val accuracy: 0.873251\n",
            "Average loss: 0.336452, Train accuracy: 0.899652, Val accuracy: 0.889905\n",
            "Now running parameters: lr = 0.1, anneal_epochs = 10, reg = 0.0001\n",
            "Average loss: 1.175057, Train accuracy: 0.613009, Val accuracy: 0.839260\n",
            "Average loss: 0.492742, Train accuracy: 0.853070, Val accuracy: 0.859873\n",
            "Average loss: 0.404724, Train accuracy: 0.878835, Val accuracy: 0.882192\n",
            "Average loss: 0.360103, Train accuracy: 0.892878, Val accuracy: 0.880076\n",
            "Average loss: 0.323841, Train accuracy: 0.901990, Val accuracy: 0.888745\n",
            "Now running parameters: lr = 0.1, anneal_epochs = 10, reg = 1e-05\n",
            "Average loss: 1.380947, Train accuracy: 0.529980, Val accuracy: 0.824790\n",
            "Average loss: 0.516258, Train accuracy: 0.848326, Val accuracy: 0.855778\n",
            "Average loss: 0.418543, Train accuracy: 0.876412, Val accuracy: 0.867108\n",
            "Average loss: 0.360963, Train accuracy: 0.892929, Val accuracy: 0.892704\n",
            "Average loss: 0.324418, Train accuracy: 0.904157, Val accuracy: 0.887857\n",
            "Now running parameters: lr = 0.1, anneal_epochs = 10, reg = 1e-07\n",
            "Average loss: 1.327627, Train accuracy: 0.555506, Val accuracy: 0.821992\n",
            "Average loss: 0.525274, Train accuracy: 0.844555, Val accuracy: 0.868814\n",
            "Average loss: 0.425869, Train accuracy: 0.873511, Val accuracy: 0.873661\n",
            "Average loss: 0.375195, Train accuracy: 0.888885, Val accuracy: 0.878780\n",
            "Average loss: 0.333074, Train accuracy: 0.901512, Val accuracy: 0.880076\n",
            "Now running parameters: lr = 0.1, anneal_epochs = 15, reg = 0.001\n",
            "Average loss: 1.257201, Train accuracy: 0.576647, Val accuracy: 0.840898\n",
            "Average loss: 0.490090, Train accuracy: 0.856278, Val accuracy: 0.854413\n",
            "Average loss: 0.407684, Train accuracy: 0.878715, Val accuracy: 0.874002\n",
            "Average loss: 0.362854, Train accuracy: 0.892264, Val accuracy: 0.881851\n",
            "Average loss: 0.332989, Train accuracy: 0.901495, Val accuracy: 0.891065\n",
            "Now running parameters: lr = 0.1, anneal_epochs = 15, reg = 0.0001\n",
            "Average loss: 1.228525, Train accuracy: 0.589479, Val accuracy: 0.820763\n",
            "Average loss: 0.505763, Train accuracy: 0.848428, Val accuracy: 0.867108\n",
            "Average loss: 0.418575, Train accuracy: 0.874006, Val accuracy: 0.863695\n",
            "Average loss: 0.368113, Train accuracy: 0.890677, Val accuracy: 0.889018\n",
            "Average loss: 0.330802, Train accuracy: 0.900898, Val accuracy: 0.890997\n",
            "Now running parameters: lr = 0.1, anneal_epochs = 15, reg = 1e-05\n",
            "Average loss: 1.353612, Train accuracy: 0.540593, Val accuracy: 0.822128\n",
            "Average loss: 0.514944, Train accuracy: 0.847763, Val accuracy: 0.855505\n",
            "Average loss: 0.414287, Train accuracy: 0.877094, Val accuracy: 0.881169\n",
            "Average loss: 0.361174, Train accuracy: 0.892946, Val accuracy: 0.871135\n",
            "Average loss: 0.323470, Train accuracy: 0.904498, Val accuracy: 0.889905\n",
            "Now running parameters: lr = 0.1, anneal_epochs = 15, reg = 1e-07\n",
            "Average loss: 1.213041, Train accuracy: 0.594939, Val accuracy: 0.831820\n",
            "Average loss: 0.499134, Train accuracy: 0.852694, Val accuracy: 0.866562\n",
            "Average loss: 0.407922, Train accuracy: 0.878272, Val accuracy: 0.878029\n",
            "Average loss: 0.354171, Train accuracy: 0.893339, Val accuracy: 0.887994\n",
            "Average loss: 0.317176, Train accuracy: 0.904771, Val accuracy: 0.883421\n",
            "Now running parameters: lr = 0.1, anneal_epochs = 20, reg = 0.001\n",
            "Average loss: 1.352735, Train accuracy: 0.543562, Val accuracy: 0.828271\n",
            "Average loss: 0.536793, Train accuracy: 0.839061, Val accuracy: 0.855641\n",
            "Average loss: 0.441374, Train accuracy: 0.869587, Val accuracy: 0.869906\n",
            "Average loss: 0.390874, Train accuracy: 0.883698, Val accuracy: 0.884376\n",
            "Average loss: 0.357807, Train accuracy: 0.892673, Val accuracy: 0.877551\n",
            "Now running parameters: lr = 0.1, anneal_epochs = 20, reg = 0.0001\n",
            "Average loss: 1.339854, Train accuracy: 0.551565, Val accuracy: 0.784247\n",
            "Average loss: 0.550783, Train accuracy: 0.837593, Val accuracy: 0.807522\n",
            "Average loss: 0.449537, Train accuracy: 0.867369, Val accuracy: 0.862945\n",
            "Average loss: 0.390460, Train accuracy: 0.883630, Val accuracy: 0.871476\n",
            "Average loss: 0.352679, Train accuracy: 0.894977, Val accuracy: 0.885127\n",
            "Now running parameters: lr = 0.1, anneal_epochs = 20, reg = 1e-05\n",
            "Average loss: 1.326549, Train accuracy: 0.552947, Val accuracy: 0.823562\n",
            "Average loss: 0.533930, Train accuracy: 0.840545, Val accuracy: 0.846427\n",
            "Average loss: 0.436506, Train accuracy: 0.869314, Val accuracy: 0.875640\n",
            "Average loss: 0.384373, Train accuracy: 0.886240, Val accuracy: 0.863354\n",
            "Average loss: 0.349207, Train accuracy: 0.894601, Val accuracy: 0.884172\n",
            "Now running parameters: lr = 0.1, anneal_epochs = 20, reg = 1e-07\n",
            "Average loss: 1.273081, Train accuracy: 0.573474, Val accuracy: 0.839465\n",
            "Average loss: 0.503881, Train accuracy: 0.853786, Val accuracy: 0.865538\n",
            "Average loss: 0.413318, Train accuracy: 0.876992, Val accuracy: 0.878438\n",
            "Average loss: 0.362410, Train accuracy: 0.892946, Val accuracy: 0.878097\n",
            "Average loss: 0.330473, Train accuracy: 0.900454, Val accuracy: 0.885469\n",
            "Now running parameters: lr = 0.1, anneal_epochs = 50, reg = 0.001\n",
            "Average loss: 1.268967, Train accuracy: 0.573098, Val accuracy: 0.822674\n",
            "Average loss: 0.502647, Train accuracy: 0.852234, Val accuracy: 0.820081\n",
            "Average loss: 0.414514, Train accuracy: 0.877606, Val accuracy: 0.864924\n",
            "Average loss: 0.364717, Train accuracy: 0.892059, Val accuracy: 0.887584\n",
            "Average loss: 0.334821, Train accuracy: 0.900863, Val accuracy: 0.886219\n",
            "Now running parameters: lr = 0.1, anneal_epochs = 50, reg = 0.0001\n",
            "Average loss: 1.459994, Train accuracy: 0.499778, Val accuracy: 0.812641\n",
            "Average loss: 0.530191, Train accuracy: 0.843651, Val accuracy: 0.850863\n",
            "Average loss: 0.425503, Train accuracy: 0.873477, Val accuracy: 0.870794\n",
            "Average loss: 0.374582, Train accuracy: 0.888527, Val accuracy: 0.866016\n",
            "Average loss: 0.335075, Train accuracy: 0.900983, Val accuracy: 0.882670\n",
            "Now running parameters: lr = 0.1, anneal_epochs = 50, reg = 1e-05\n",
            "Average loss: 1.197141, Train accuracy: 0.597345, Val accuracy: 0.828271\n",
            "Average loss: 0.506982, Train accuracy: 0.847746, Val accuracy: 0.830455\n",
            "Average loss: 0.413461, Train accuracy: 0.875985, Val accuracy: 0.873524\n",
            "Average loss: 0.360615, Train accuracy: 0.891888, Val accuracy: 0.881715\n",
            "Average loss: 0.322175, Train accuracy: 0.903201, Val accuracy: 0.877073\n",
            "Now running parameters: lr = 0.1, anneal_epochs = 50, reg = 1e-07\n",
            "Average loss: 1.296256, Train accuracy: 0.563901, Val accuracy: 0.820627\n",
            "Average loss: 0.525338, Train accuracy: 0.842661, Val accuracy: 0.845813\n",
            "Average loss: 0.425959, Train accuracy: 0.871378, Val accuracy: 0.870794\n",
            "Average loss: 0.369201, Train accuracy: 0.888407, Val accuracy: 0.885196\n",
            "Average loss: 0.331925, Train accuracy: 0.899754, Val accuracy: 0.869429\n"
          ],
          "name": "stdout"
        }
      ]
    },
    {
      "cell_type": "code",
      "metadata": {
        "id": "zST7BdxRdPbg"
      },
      "source": [
        "# run_record\n",
        "#Now running parameters: lr = 0.1, anneal_epochs = 5, reg = 0.001\n"
      ],
      "execution_count": 35,
      "outputs": []
    },
    {
      "cell_type": "code",
      "metadata": {
        "colab": {
          "base_uri": "https://localhost:8080/"
        },
        "id": "Y6xExdw8JB1l",
        "outputId": "8f84fbdb-c142-45ed-9d9c-eb2834f86cc8"
      },
      "source": [
        "best_val_accuracy = None\n",
        "best_hyperparams = None\n",
        "best_run = None\n",
        "\n",
        "for hyperparams, run_result in run_record.items():\n",
        "    if best_val_accuracy is None or best_val_accuracy < run_result.final_val_accuracy:\n",
        "        best_val_accuracy = run_result.final_val_accuracy\n",
        "        best_hyperparams = hyperparams\n",
        "        best_run = run_result\n",
        "        \n",
        "print(\"Best validation accuracy: %4.2f, best hyperparams: %s\" % (best_val_accuracy, best_hyperparams))\n",
        "        "
      ],
      "execution_count": 34,
      "outputs": [
        {
          "output_type": "stream",
          "text": [
            "Best validation accuracy: 0.89, best hyperparams: Hyperparams(learning_rate=0.1, anneal_epochs=5, reg=1e-05)\n"
          ],
          "name": "stdout"
        }
      ]
    },
    {
      "cell_type": "markdown",
      "metadata": {
        "id": "LOmsR0uVgtgf"
      },
      "source": [
        "# Свободное упражнение - догоним и перегоним LeNet!\n",
        "\n",
        "Попробуйте найти архитектуру и настройки тренировки, чтобы выступить лучше наших бейзлайнов.\n",
        "\n",
        "Что можно и нужно попробовать:\n",
        "- BatchNormalization (для convolution layers он в PyTorch называется [batchnorm2d](https://pytorch.org/docs/stable/nn.html#batchnorm2d))\n",
        "- Изменить количество слоев и их толщину\n",
        "- Изменять количество эпох тренировки\n",
        "- Попробовать и другие агментации"
      ]
    },
    {
      "cell_type": "code",
      "metadata": {
        "colab": {
          "base_uri": "https://localhost:8080/"
        },
        "id": "tSVhD747icoc",
        "outputId": "32a06453-cf28-43d4-e063-b21b33a4363c"
      },
      "source": [
        "best_model = nn.Sequential(                            #3x32x32\n",
        "                nn.Conv2d(3, 6, 5, padding=0),         #6x28x28\n",
        "                nn.ReLU(inplace=True),                 #6x28x28\n",
        "                nn.MaxPool2d(2),                       #6x14x14\n",
        "                nn.Conv2d(6, 16, 5, padding=0),        #16x10x10\n",
        "                nn.ReLU(inplace=True),                 #16x10x10\n",
        "                nn.MaxPool2d(2),                       #16x5x5\n",
        "                nn.Conv2d(16, 120, 5, padding=0),      #120x1x1\n",
        "                nn.ReLU(inplace=True),                 #120x1x1\n",
        "                Flattener(), \n",
        "                nn.BatchNorm1d(120),                          \n",
        "                nn.Linear(120, 84),\n",
        "                nn.ReLU(inplace=True),\n",
        "                nn.BatchNorm1d(84),\n",
        "                nn.Linear(84, 10),\n",
        "                )\n",
        "\n",
        "best_model.type(torch.cuda.FloatTensor)\n",
        "best_model.to(device)\n",
        "\n",
        "loss = nn.CrossEntropyLoss().type(torch.cuda.FloatTensor)\n",
        "optimizer = optim.SGD(best_model.parameters(), lr=1e-1, weight_decay=1e-05)\n",
        "# optimizer = torch.optim.Adamax(nn_model.parameters(), lr=1e-1, betas=(0.9, 0.999), eps=1e-08)\n",
        "loss_history, train_history, val_history = train_model_lr_schedule(\n",
        "                  best_model, train_aug_loader, val_loader, loss, optimizer, 10, 5, 0.2)"
      ],
      "execution_count": 35,
      "outputs": [
        {
          "output_type": "stream",
          "text": [
            "Average loss: 0.944951, Train accuracy: 0.692267, Val accuracy: 0.854276\n",
            "Average loss: 0.498076, Train accuracy: 0.844913, Val accuracy: 0.865879\n",
            "Average loss: 0.430789, Train accuracy: 0.867744, Val accuracy: 0.883216\n",
            "Average loss: 0.425949, Train accuracy: 0.869689, Val accuracy: 0.876254\n",
            "Average loss: 0.408816, Train accuracy: 0.873238, Val accuracy: 0.890929\n",
            "Average loss: 0.328815, Train accuracy: 0.899686, Val accuracy: 0.899188\n",
            "Average loss: 0.313660, Train accuracy: 0.905692, Val accuracy: 0.898300\n",
            "Average loss: 0.306401, Train accuracy: 0.907723, Val accuracy: 0.901235\n",
            "Average loss: 0.298879, Train accuracy: 0.909907, Val accuracy: 0.898983\n",
            "Average loss: 0.294614, Train accuracy: 0.909822, Val accuracy: 0.899324\n"
          ],
          "name": "stdout"
        }
      ]
    },
    {
      "cell_type": "code",
      "metadata": {
        "id": "d2e5TZVeLwaF"
      },
      "source": [
        "PATH = 'sgd_trained_net.pth'\n",
        "torch.save(best_model.state_dict(), PATH)"
      ],
      "execution_count": 21,
      "outputs": []
    },
    {
      "cell_type": "markdown",
      "metadata": {
        "id": "ubeKgBcnhx7N"
      },
      "source": [
        "# Финальный аккорд - проверим лучшую модель на test set\n",
        "\n",
        "В качестве разнообразия - напишите код для прогона модели на test set вы.\n",
        "\n",
        "В результате вы должны натренировать модель, которая покажет более **90%** точности на test set.  \n",
        "Как водится, лучший результат в группе получит дополнительные баллы!"
      ]
    },
    {
      "cell_type": "code",
      "metadata": {
        "colab": {
          "base_uri": "https://localhost:8080/"
        },
        "id": "EIqM1kdeh-hd",
        "outputId": "7d8f0471-0996-4322-929e-54215b752938"
      },
      "source": [
        "def compute_accuracy(model, loader):\n",
        "    \"\"\"\n",
        "    Computes accuracy on the dataset wrapped in a loader\n",
        "    \n",
        "    Returns: accuracy as a float value between 0 and 1\n",
        "    \"\"\"\n",
        "    model.eval() # Evaluation mode\n",
        "    \n",
        "    with torch.no_grad():\n",
        "        correct_samples = 0\n",
        "        total_samples = 0\n",
        "        for i_step, (x, y) in enumerate(loader):\n",
        "            x_gpu = x.to(device)\n",
        "            y_gpu = y.to(device)\n",
        "            prediction = model(x_gpu)    \n",
        "            _, indices = torch.max(prediction, 1)\n",
        "            correct_samples += torch.sum(indices == y_gpu)\n",
        "            total_samples += y.shape[0]\n",
        "\n",
        "    return float(correct_samples) / total_samples\n",
        "\n",
        "# TODO Write the code to compute accuracy on test set\n",
        "# data_test.to(device)\n",
        "test_loader = torch.utils.data.DataLoader(data_test, batch_size=batch_size)\n",
        "# for inputs, labels in test_loader:\n",
        "#     inputs, labels = inputs.to(device), labels.to(device)\n",
        "# test_loader.to(device)\n",
        "# print(\"Test accuracy: %2.4f\" % test_accuracy)\n",
        "final_test_accuracy = compute_accuracy(best_model, test_loader)\n",
        "print(\"Final test accuracy - \", final_test_accuracy)\n"
      ],
      "execution_count": 36,
      "outputs": [
        {
          "output_type": "stream",
          "text": [
            "Final test accuracy -  0.8897894898586355\n"
          ],
          "name": "stdout"
        }
      ]
    },
    {
      "cell_type": "code",
      "metadata": {
        "id": "BfH6qip6kVX_"
      },
      "source": [
        ""
      ],
      "execution_count": null,
      "outputs": []
    }
  ]
}